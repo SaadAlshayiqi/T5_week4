{
 "cells": [
  {
   "cell_type": "markdown",
   "id": "69e7471b",
   "metadata": {},
   "source": [
    "# Exam on Convolutional Neural Networks (CNN)\n",
    "\n",
    "Welcome to the Convolutional Neural Networks (CNN) practical exam. In this exam, you will work on an image classification task to predict the type of traffic sign. You are provided with a dataset of traffic sign images, and your task is to build, train, and evaluate a CNN model.\n",
    "\n",
    "---\n",
    "\n",
    "## Dataset Overview\n",
    "### **Dataset:**\n",
    "* Just run the command under the `Load Data` section to get the data downloaded and unzipped or you can access it [here](https://drive.google.com/file/d/1HwMV-Lt_sWoxc5v6igmTxTwomS3DR6cQ/view?usp=sharing)\n",
    "### **Dataset Name:** Traffic Signs\n",
    "\n",
    "### **Description:**  \n",
    "The dataset contains images of various German traffic signs labeled for classification purposes. Each image belongs to one of the 43 classes, representing different types of traffic signs.\n",
    "\n",
    "### **Labels:**\n",
    "```python\n",
    "classes = {\n",
    "    0:  'Speed limit (20km/h)',\n",
    "    1:  'Speed limit (30km/h)', \n",
    "    2:  'Speed limit (50km/h)', \n",
    "    3:  'Speed limit (60km/h)', \n",
    "    4:  'Speed limit (70km/h)', \n",
    "    5:  'Speed limit (80km/h)', \n",
    "    6:  'End of speed limit (80km/h)', \n",
    "    7:  'Speed limit (100km/h)', \n",
    "    8:  'Speed limit (120km/h)', \n",
    "    9:  'No passing', \n",
    "    10: 'No passing veh over 3.5 tons', \n",
    "    11: 'Right-of-way at intersection', \n",
    "    12: 'Priority road', \n",
    "    13: 'Yield', \n",
    "    14: 'Stop', \n",
    "    15: 'No vehicles', \n",
    "    16: 'Veh > 3.5 tons prohibited', \n",
    "    17: 'No entry', \n",
    "    18: 'General caution', \n",
    "    19: 'Dangerous curve left', \n",
    "    20: 'Dangerous curve right', \n",
    "    21: 'Double curve', \n",
    "    22: 'Bumpy road', \n",
    "    23: 'Slippery road', \n",
    "    24: 'Road narrows on the right', \n",
    "    25: 'Road work', \n",
    "    26: 'Traffic signals', \n",
    "    27: 'Pedestrians', \n",
    "    28: 'Children crossing', \n",
    "    29: 'Bicycles crossing', \n",
    "    30: 'Beware of ice/snow',\n",
    "    31: 'Wild animals crossing', \n",
    "    32: 'End speed + passing limits', \n",
    "    33: 'Turn right ahead', \n",
    "    34: 'Turn left ahead', \n",
    "    35: 'Ahead only', \n",
    "    36: 'Go straight or right', \n",
    "    37: 'Go straight or left', \n",
    "    38: 'Keep right', \n",
    "    39: 'Keep left', \n",
    "    40: 'Roundabout mandatory', \n",
    "    41: 'End of no passing', \n",
    "    42: 'End no passing veh > 3.5 tons'\n",
    "}\n",
    "```\n",
    "\n"
   ]
  },
  {
   "cell_type": "markdown",
   "id": "66c6f645",
   "metadata": {},
   "source": [
    "## Load Data\n",
    "Run the following command to get the data and unzip it, alternatively you can access the data [here](https://drive.google.com/file/d/1HwMV-Lt_sWoxc5v6igmTxTwomS3DR6cQ/view?usp=sharing)."
   ]
  },
  {
   "cell_type": "code",
   "execution_count": 1,
   "id": "ee08de6b",
   "metadata": {},
   "outputs": [
    {
     "name": "stdout",
     "output_type": "stream",
     "text": [
      "Requirement already satisfied: gdown in c:\\users\\saadl\\anaconda3\\lib\\site-packages (5.2.0)\n",
      "Requirement already satisfied: beautifulsoup4 in c:\\users\\saadl\\anaconda3\\lib\\site-packages (from gdown) (4.12.3)\n",
      "Requirement already satisfied: filelock in c:\\users\\saadl\\anaconda3\\lib\\site-packages (from gdown) (3.13.1)\n",
      "Requirement already satisfied: requests[socks] in c:\\users\\saadl\\anaconda3\\lib\\site-packages (from gdown) (2.32.2)\n",
      "Requirement already satisfied: tqdm in c:\\users\\saadl\\anaconda3\\lib\\site-packages (from gdown) (4.66.4)\n",
      "Requirement already satisfied: soupsieve>1.2 in c:\\users\\saadl\\anaconda3\\lib\\site-packages (from beautifulsoup4->gdown) (2.5)\n",
      "Requirement already satisfied: charset-normalizer<4,>=2 in c:\\users\\saadl\\anaconda3\\lib\\site-packages (from requests[socks]->gdown) (2.0.4)\n",
      "Requirement already satisfied: idna<4,>=2.5 in c:\\users\\saadl\\anaconda3\\lib\\site-packages (from requests[socks]->gdown) (3.7)\n",
      "Requirement already satisfied: urllib3<3,>=1.21.1 in c:\\users\\saadl\\anaconda3\\lib\\site-packages (from requests[socks]->gdown) (2.2.2)\n",
      "Requirement already satisfied: certifi>=2017.4.17 in c:\\users\\saadl\\anaconda3\\lib\\site-packages (from requests[socks]->gdown) (2024.7.4)\n",
      "Requirement already satisfied: PySocks!=1.5.7,>=1.5.6 in c:\\users\\saadl\\anaconda3\\lib\\site-packages (from requests[socks]->gdown) (1.7.1)\n",
      "Requirement already satisfied: colorama in c:\\users\\saadl\\anaconda3\\lib\\site-packages (from tqdm->gdown) (0.4.6)\n"
     ]
    },
    {
     "name": "stderr",
     "output_type": "stream",
     "text": [
      "C:\\Users\\SaadL\\anaconda3\\Lib\\site-packages\\gdown\\__main__.py:140: FutureWarning: Option `--id` was deprecated in version 4.3.1 and will be removed in 5.0. You don't need to pass it anymore to use a file ID.\n",
      "  warnings.warn(\n",
      "Downloading...\n",
      "From (original): https://drive.google.com/uc?id=1HwMV-Lt_sWoxc5v6igmTxTwomS3DR6cQ\n",
      "From (redirected): https://drive.google.com/uc?id=1HwMV-Lt_sWoxc5v6igmTxTwomS3DR6cQ&confirm=t&uuid=637b95b1-4e8c-4ca5-b1ef-c345aba34560\n",
      "To: c:\\Users\\SaadL\\OneDrive\\المستندات\\week4_task\\Traffic_Signs.zip\n",
      "\n",
      "  0%|          | 0.00/244M [00:00<?, ?B/s]\n",
      "  0%|          | 524k/244M [00:00<02:23, 1.70MB/s]\n",
      "  1%|          | 1.57M/244M [00:00<00:59, 4.07MB/s]\n",
      "  2%|▏         | 3.67M/244M [00:00<00:27, 8.85MB/s]\n",
      "  3%|▎         | 6.82M/244M [00:00<00:15, 15.4MB/s]\n",
      "  4%|▎         | 8.91M/244M [00:01<00:25, 9.39MB/s]\n",
      "  5%|▍         | 11.0M/244M [00:01<00:24, 9.47MB/s]\n",
      "  7%|▋         | 16.8M/244M [00:01<00:12, 17.6MB/s]\n",
      "  8%|▊         | 19.4M/244M [00:01<00:12, 17.7MB/s]\n",
      "  9%|▉         | 22.0M/244M [00:01<00:12, 17.2MB/s]\n",
      " 10%|▉         | 24.1M/244M [00:01<00:12, 17.1MB/s]\n",
      " 11%|█         | 26.2M/244M [00:02<00:17, 12.7MB/s]\n",
      " 12%|█▏        | 28.8M/244M [00:02<00:14, 14.8MB/s]\n",
      " 14%|█▎        | 33.0M/244M [00:02<00:11, 19.1MB/s]\n",
      " 15%|█▍        | 35.7M/244M [00:02<00:11, 18.3MB/s]\n",
      " 15%|█▌        | 37.7M/244M [00:02<00:13, 15.6MB/s]\n",
      " 17%|█▋        | 40.4M/244M [00:02<00:13, 14.8MB/s]\n",
      " 18%|█▊        | 45.1M/244M [00:03<00:09, 20.0MB/s]\n",
      " 20%|█▉        | 47.7M/244M [00:03<00:09, 20.6MB/s]\n",
      " 21%|██        | 50.3M/244M [00:03<00:09, 19.7MB/s]\n",
      " 21%|██▏       | 52.4M/244M [00:03<00:09, 19.4MB/s]\n",
      " 22%|██▏       | 54.5M/244M [00:03<00:09, 19.7MB/s]\n",
      " 24%|██▍       | 58.2M/244M [00:03<00:07, 23.8MB/s]\n",
      " 25%|██▍       | 60.8M/244M [00:03<00:12, 14.5MB/s]\n",
      " 26%|██▌       | 64.0M/244M [00:04<00:10, 17.0MB/s]\n",
      " 27%|██▋       | 66.6M/244M [00:04<00:10, 17.0MB/s]\n",
      " 28%|██▊       | 68.7M/244M [00:04<00:10, 17.4MB/s]\n",
      " 29%|██▉       | 70.8M/244M [00:04<00:10, 17.3MB/s]\n",
      " 30%|██▉       | 72.9M/244M [00:04<00:09, 17.3MB/s]\n",
      " 31%|███       | 75.0M/244M [00:04<00:09, 17.7MB/s]\n",
      " 32%|███▏      | 77.1M/244M [00:04<00:09, 17.5MB/s]\n",
      " 32%|███▏      | 79.2M/244M [00:04<00:09, 17.6MB/s]\n",
      " 33%|███▎      | 81.3M/244M [00:05<00:09, 17.7MB/s]\n",
      " 34%|███▍      | 83.4M/244M [00:05<00:08, 18.0MB/s]\n",
      " 35%|███▍      | 85.5M/244M [00:05<00:11, 13.5MB/s]\n",
      " 36%|███▌      | 88.1M/244M [00:05<00:09, 16.2MB/s]\n",
      " 37%|███▋      | 91.2M/244M [00:05<00:07, 19.7MB/s]\n",
      " 38%|███▊      | 93.8M/244M [00:05<00:07, 21.2MB/s]\n",
      " 39%|███▉      | 96.5M/244M [00:05<00:09, 15.4MB/s]\n",
      " 41%|████      | 99.6M/244M [00:06<00:08, 17.9MB/s]\n",
      " 42%|████▏     | 102M/244M [00:06<00:07, 18.0MB/s] \n",
      " 43%|████▎     | 104M/244M [00:06<00:07, 17.8MB/s]\n",
      " 44%|████▎     | 106M/244M [00:06<00:07, 18.0MB/s]\n",
      " 44%|████▍     | 109M/244M [00:06<00:07, 17.8MB/s]\n",
      " 45%|████▌     | 111M/244M [00:06<00:07, 17.6MB/s]\n",
      " 46%|████▌     | 113M/244M [00:06<00:07, 17.8MB/s]\n",
      " 47%|████▋     | 115M/244M [00:06<00:07, 17.7MB/s]\n",
      " 48%|████▊     | 117M/244M [00:07<00:07, 17.5MB/s]\n",
      " 49%|████▊     | 119M/244M [00:07<00:07, 17.1MB/s]\n",
      " 50%|████▉     | 121M/244M [00:07<00:07, 17.3MB/s]\n",
      " 50%|█████     | 123M/244M [00:07<00:06, 17.6MB/s]\n",
      " 51%|█████▏    | 125M/244M [00:07<00:06, 17.7MB/s]\n",
      " 52%|█████▏    | 127M/244M [00:07<00:06, 17.7MB/s]\n",
      " 53%|█████▎    | 129M/244M [00:07<00:06, 17.4MB/s]\n",
      " 54%|█████▍    | 132M/244M [00:07<00:06, 17.8MB/s]\n",
      " 55%|█████▍    | 134M/244M [00:08<00:08, 12.6MB/s]\n",
      " 56%|█████▌    | 136M/244M [00:08<00:07, 13.7MB/s]\n",
      " 56%|█████▋    | 138M/244M [00:08<00:07, 14.9MB/s]\n",
      " 57%|█████▋    | 140M/244M [00:08<00:06, 15.5MB/s]\n",
      " 58%|█████▊    | 142M/244M [00:08<00:06, 15.3MB/s]\n",
      " 59%|█████▉    | 144M/244M [00:08<00:06, 16.4MB/s]\n",
      " 60%|█████▉    | 146M/244M [00:08<00:05, 17.0MB/s]\n",
      " 61%|██████    | 148M/244M [00:09<00:05, 17.4MB/s]\n",
      " 62%|██████▏   | 150M/244M [00:09<00:05, 17.5MB/s]\n",
      " 62%|██████▏   | 153M/244M [00:09<00:05, 17.6MB/s]\n",
      " 63%|██████▎   | 155M/244M [00:09<00:05, 17.4MB/s]\n",
      " 64%|██████▍   | 157M/244M [00:09<00:04, 17.7MB/s]\n",
      " 65%|██████▌   | 159M/244M [00:09<00:04, 17.9MB/s]\n",
      " 66%|██████▌   | 161M/244M [00:09<00:04, 17.3MB/s]\n",
      " 67%|██████▋   | 163M/244M [00:09<00:04, 18.0MB/s]\n",
      " 68%|██████▊   | 165M/244M [00:09<00:04, 17.7MB/s]\n",
      " 68%|██████▊   | 167M/244M [00:10<00:04, 17.9MB/s]\n",
      " 69%|██████▉   | 169M/244M [00:10<00:04, 18.1MB/s]\n",
      " 70%|███████   | 171M/244M [00:10<00:04, 17.7MB/s]\n",
      " 71%|███████   | 174M/244M [00:10<00:04, 17.6MB/s]\n",
      " 72%|███████▏  | 176M/244M [00:10<00:03, 18.4MB/s]\n",
      " 73%|███████▎  | 179M/244M [00:10<00:03, 21.3MB/s]\n",
      " 74%|███████▍  | 181M/244M [00:10<00:02, 21.3MB/s]\n",
      " 75%|███████▌  | 184M/244M [00:10<00:02, 21.2MB/s]\n",
      " 76%|███████▋  | 187M/244M [00:11<00:02, 20.9MB/s]\n",
      " 77%|███████▋  | 189M/244M [00:11<00:03, 15.2MB/s]\n",
      " 78%|███████▊  | 191M/244M [00:11<00:03, 15.3MB/s]\n",
      " 79%|███████▉  | 193M/244M [00:11<00:02, 17.3MB/s]\n",
      " 80%|████████  | 196M/244M [00:11<00:02, 17.6MB/s]\n",
      " 81%|████████  | 198M/244M [00:11<00:02, 18.0MB/s]\n",
      " 82%|████████▏ | 200M/244M [00:11<00:02, 17.5MB/s]\n",
      " 83%|████████▎ | 202M/244M [00:11<00:02, 18.1MB/s]\n",
      " 83%|████████▎ | 204M/244M [00:12<00:02, 15.4MB/s]\n",
      " 84%|████████▍ | 206M/244M [00:12<00:02, 14.8MB/s]\n",
      " 86%|████████▌ | 209M/244M [00:12<00:01, 18.1MB/s]\n",
      " 87%|████████▋ | 212M/244M [00:12<00:01, 19.7MB/s]\n",
      " 88%|████████▊ | 214M/244M [00:12<00:01, 21.0MB/s]\n",
      " 89%|████████▉ | 217M/244M [00:12<00:01, 20.6MB/s]\n",
      " 90%|████████▉ | 220M/244M [00:12<00:01, 19.9MB/s]\n",
      " 91%|█████████ | 222M/244M [00:13<00:01, 19.5MB/s]\n",
      " 92%|█████████▏| 224M/244M [00:13<00:01, 19.8MB/s]\n",
      " 93%|█████████▎| 226M/244M [00:13<00:00, 19.4MB/s]\n",
      " 93%|█████████▎| 228M/244M [00:13<00:00, 18.7MB/s]\n",
      " 94%|█████████▍| 230M/244M [00:13<00:00, 14.3MB/s]\n",
      " 95%|█████████▌| 232M/244M [00:13<00:00, 14.7MB/s]\n",
      " 97%|█████████▋| 236M/244M [00:13<00:00, 20.8MB/s]\n",
      " 98%|█████████▊| 239M/244M [00:14<00:00, 19.2MB/s]\n",
      " 99%|█████████▉| 242M/244M [00:14<00:00, 18.5MB/s]\n",
      "100%|█████████▉| 244M/244M [00:14<00:00, 18.1MB/s]\n",
      "100%|██████████| 244M/244M [00:14<00:00, 17.0MB/s]\n",
      "'unzip' is not recognized as an internal or external command,\n",
      "operable program or batch file.\n"
     ]
    }
   ],
   "source": [
    "#https://drive.google.com/file/d/1HwMV-Lt_sWoxc5v6igmTxTwomS3DR6cQ/view?usp=sharing\n",
    "!pip install gdown\n",
    "!gdown --id 1HwMV-Lt_sWoxc5v6igmTxTwomS3DR6cQ\n",
    "!unzip Traffic_Signs.zip"
   ]
  },
  {
   "cell_type": "markdown",
   "id": "9bb9f30e",
   "metadata": {},
   "source": [
    "## Import Libraries"
   ]
  },
  {
   "cell_type": "code",
   "execution_count": 55,
   "id": "f7968e58",
   "metadata": {},
   "outputs": [],
   "source": [
    "import tensorflow as tf\n",
    "import numpy as np \n",
    "import pandas as pd \n",
    "import matplotlib.pyplot as pl\n",
    "from keras import layers , models \n",
    "from sklearn.model_selection import train_test_split\n",
    "import os\n",
    "import cv2\n",
    "from matplotlib.image import imread\n",
    "from PIL import Image\n",
    "import random\n",
    "from tensorflow.keras.preprocessing.image import ImageDataGenerator\n",
    "import shutil"
   ]
  },
  {
   "cell_type": "markdown",
   "id": "3aa9945d",
   "metadata": {},
   "source": [
    "## Data Preprocessing\n",
    "In this section, preprocess the dataset by:\n",
    "- Loading the images from the file paths.\n",
    "- Resizing the images to a consistent size.\n",
    "- Normalizing pixel values.\n",
    "\n",
    "Add more if needed!"
   ]
  },
  {
   "cell_type": "code",
   "execution_count": 90,
   "id": "72042d3e",
   "metadata": {},
   "outputs": [],
   "source": [
    "data = r'C:\\Users\\SaadL\\OneDrive\\المستندات\\week4_task\\Traffic_Signs.zip\\Traffic_Signs\\Dataset'\n",
    "img_height = 30\n",
    "img_width = 30\n",
    "RGB = 3"
   ]
  },
  {
   "cell_type": "code",
   "execution_count": 91,
   "id": "dad67f83",
   "metadata": {},
   "outputs": [],
   "source": [
    "NUM_CATEGORIES = 43"
   ]
  },
  {
   "cell_type": "markdown",
   "id": "7eb70c75",
   "metadata": {},
   "source": [
    " I tried several times to load the data but there is no solution"
   ]
  },
  {
   "cell_type": "markdown",
   "id": "541f3c2b",
   "metadata": {},
   "source": [
    "## Data Splitting\n",
    "In this section, we will split our dataset into three parts:\n",
    "\n",
    "* Training set (70%).\n",
    "* Validation set (15%).\n",
    "* Test set (15%)."
   ]
  },
  {
   "cell_type": "code",
   "execution_count": 96,
   "id": "e6028a71",
   "metadata": {},
   "outputs": [
    {
     "data": {
      "text/plain": [
       "False"
      ]
     },
     "execution_count": 96,
     "metadata": {},
     "output_type": "execute_result"
    }
   ],
   "source": [
    "os.path.isfile(r'C:\\\\Users\\\\SaadL\\\\OneDrive\\\\المستندات\\\\week4_task\\\\Traffic_Signs.zip\\\\Traffic_Signs\\\\Dataset')"
   ]
  },
  {
   "cell_type": "code",
   "execution_count": 93,
   "id": "e6ba7346",
   "metadata": {},
   "outputs": [
    {
     "name": "stdout",
     "output_type": "stream",
     "text": [
      "Directory C:\\Users\\SaadL\\OneDrive\\المستندات\\week4_task\\Traffic_Signs.zip\\Traffic_Signs\\Dataset does not exist.\n"
     ]
    }
   ],
   "source": [
    "if os.path.exists(r'C:\\\\Users\\\\SaadL\\\\OneDrive\\\\المستندات\\\\week4_task\\\\Traffic_Signs.zip\\\\Traffic_Signs\\\\Dataset'):\n",
    "    for img_name in os.listdir(r'C:\\Users\\SaadL\\OneDrive\\المستندات\\week4_task\\Traffic_Signs.zip\\Traffic_Signs\\Dataset'):\n",
    "        image_path = os.path.join(r'C:\\Users\\SaadL\\OneDrive\\المستندات\\week4_task\\Traffic_Signs.zip\\Traffic_Signs\\Dataset', img_name)\n",
    "        # Process the image\n",
    "else:\n",
    "    print(f\"Directory {r'C:\\Users\\SaadL\\OneDrive\\المستندات\\week4_task\\Traffic_Signs.zip\\Traffic_Signs\\Dataset'} does not exist.\")\n"
   ]
  },
  {
   "cell_type": "code",
   "execution_count": 94,
   "id": "59884f11",
   "metadata": {},
   "outputs": [
    {
     "ename": "FileNotFoundError",
     "evalue": "[WinError 3] The system cannot find the path specified: 'C:\\\\Users\\\\SaadL\\\\OneDrive\\\\المستندات\\\\week4_task\\\\Traffic_Signs.zip\\\\Traffic_Signs\\\\Dataset\\\\Dataset\\\\0'",
     "output_type": "error",
     "traceback": [
      "\u001b[1;31m---------------------------------------------------------------------------\u001b[0m",
      "\u001b[1;31mFileNotFoundError\u001b[0m                         Traceback (most recent call last)",
      "Cell \u001b[1;32mIn[94], line 7\u001b[0m\n\u001b[0;32m      4\u001b[0m \u001b[38;5;28;01mfor\u001b[39;00m i \u001b[38;5;129;01min\u001b[39;00m \u001b[38;5;28mrange\u001b[39m(NUM_CATEGORIES):\n\u001b[0;32m      5\u001b[0m     dataset_path \u001b[38;5;241m=\u001b[39m os\u001b[38;5;241m.\u001b[39mpath\u001b[38;5;241m.\u001b[39mjoin(data, \u001b[38;5;124m'\u001b[39m\u001b[38;5;124mDataset\u001b[39m\u001b[38;5;124m'\u001b[39m, \u001b[38;5;28mstr\u001b[39m(i))\n\u001b[1;32m----> 7\u001b[0m     \u001b[38;5;28;01mfor\u001b[39;00m img_name \u001b[38;5;129;01min\u001b[39;00m os\u001b[38;5;241m.\u001b[39mlistdir(dataset_path):\n\u001b[0;32m      8\u001b[0m         image_path \u001b[38;5;241m=\u001b[39m os\u001b[38;5;241m.\u001b[39mpath\u001b[38;5;241m.\u001b[39mjoin(dataset_path, img_name)\n\u001b[0;32m     11\u001b[0m         \u001b[38;5;28;01mtry\u001b[39;00m:\n",
      "\u001b[1;31mFileNotFoundError\u001b[0m: [WinError 3] The system cannot find the path specified: 'C:\\\\Users\\\\SaadL\\\\OneDrive\\\\المستندات\\\\week4_task\\\\Traffic_Signs.zip\\\\Traffic_Signs\\\\Dataset\\\\Dataset\\\\0'"
     ]
    }
   ],
   "source": [
    "x = []\n",
    "y = []\n",
    "\n",
    "for i in range(NUM_CATEGORIES):\n",
    "    dataset_path = os.path.join(data, 'Dataset', str(i))\n",
    "    \n",
    "    for img_name in os.listdir(dataset_path):\n",
    "        image_path = os.path.join(dataset_path, img_name)\n",
    "        \n",
    "        \n",
    "        try:\n",
    "            image = cv2.imread(image_path)\n",
    "            if image is None:\n",
    "                raise ValueError(f\"Failed to load image {img_name}\")\n",
    "            \n",
    "            image_rescale = Image.fromarray(image, 'RGB').resize((img_height, img_width))\n",
    "            x.append(np.array(image_rescale))\n",
    "            y.append(i)\n",
    "        \n",
    "        except Exception as e:\n",
    "            print(f\"Error processing {img_name}: {e}\")\n",
    "\n",
    "x = np.array(x)\n",
    "y = np.array(y)\n",
    "\n",
    "print(f\"Image shape: {x.shape}\")\n",
    "print(f\"Label shape: {y.shape}\")"
   ]
  },
  {
   "cell_type": "markdown",
   "id": "83974596",
   "metadata": {},
   "source": [
    "## Building the CNN Model\n",
    "In this section, define the architecture of the CNN model. The architecture may consist of:\n",
    "- Convolutional layers with max-pooling\n",
    "- Dropout layers\n",
    "- Flatten layer\n",
    "- Dense layers\n",
    "- Output layer\n",
    "\n",
    "Add and remove any of these as needed!"
   ]
  },
  {
   "cell_type": "code",
   "execution_count": 82,
   "id": "977da65a",
   "metadata": {},
   "outputs": [
    {
     "name": "stderr",
     "output_type": "stream",
     "text": [
      "c:\\Users\\SaadL\\anaconda3\\Lib\\site-packages\\keras\\src\\layers\\convolutional\\base_conv.py:107: UserWarning: Do not pass an `input_shape`/`input_dim` argument to a layer. When using Sequential models, prefer using an `Input(shape)` object as the first layer in the model instead.\n",
      "  super().__init__(activity_regularizer=activity_regularizer, **kwargs)\n"
     ]
    },
    {
     "data": {
      "text/html": [
       "<pre style=\"white-space:pre;overflow-x:auto;line-height:normal;font-family:Menlo,'DejaVu Sans Mono',consolas,'Courier New',monospace\"><span style=\"font-weight: bold\">Model: \"sequential_5\"</span>\n",
       "</pre>\n"
      ],
      "text/plain": [
       "\u001b[1mModel: \"sequential_5\"\u001b[0m\n"
      ]
     },
     "metadata": {},
     "output_type": "display_data"
    },
    {
     "data": {
      "text/html": [
       "<pre style=\"white-space:pre;overflow-x:auto;line-height:normal;font-family:Menlo,'DejaVu Sans Mono',consolas,'Courier New',monospace\">┏━━━━━━━━━━━━━━━━━━━━━━━━━━━━━━━━━┳━━━━━━━━━━━━━━━━━━━━━━━━┳━━━━━━━━━━━━━━━┓\n",
       "┃<span style=\"font-weight: bold\"> Layer (type)                    </span>┃<span style=\"font-weight: bold\"> Output Shape           </span>┃<span style=\"font-weight: bold\">       Param # </span>┃\n",
       "┡━━━━━━━━━━━━━━━━━━━━━━━━━━━━━━━━━╇━━━━━━━━━━━━━━━━━━━━━━━━╇━━━━━━━━━━━━━━━┩\n",
       "│ conv2d_5 (<span style=\"color: #0087ff; text-decoration-color: #0087ff\">Conv2D</span>)               │ (<span style=\"color: #00d7ff; text-decoration-color: #00d7ff\">None</span>, <span style=\"color: #00af00; text-decoration-color: #00af00\">28</span>, <span style=\"color: #00af00; text-decoration-color: #00af00\">28</span>, <span style=\"color: #00af00; text-decoration-color: #00af00\">64</span>)     │         <span style=\"color: #00af00; text-decoration-color: #00af00\">1,792</span> │\n",
       "├─────────────────────────────────┼────────────────────────┼───────────────┤\n",
       "│ max_pooling2d_5 (<span style=\"color: #0087ff; text-decoration-color: #0087ff\">MaxPooling2D</span>)  │ (<span style=\"color: #00d7ff; text-decoration-color: #00d7ff\">None</span>, <span style=\"color: #00af00; text-decoration-color: #00af00\">14</span>, <span style=\"color: #00af00; text-decoration-color: #00af00\">14</span>, <span style=\"color: #00af00; text-decoration-color: #00af00\">64</span>)     │             <span style=\"color: #00af00; text-decoration-color: #00af00\">0</span> │\n",
       "├─────────────────────────────────┼────────────────────────┼───────────────┤\n",
       "│ batch_normalization_4           │ (<span style=\"color: #00d7ff; text-decoration-color: #00d7ff\">None</span>, <span style=\"color: #00af00; text-decoration-color: #00af00\">14</span>, <span style=\"color: #00af00; text-decoration-color: #00af00\">14</span>, <span style=\"color: #00af00; text-decoration-color: #00af00\">64</span>)     │           <span style=\"color: #00af00; text-decoration-color: #00af00\">256</span> │\n",
       "│ (<span style=\"color: #0087ff; text-decoration-color: #0087ff\">BatchNormalization</span>)            │                        │               │\n",
       "├─────────────────────────────────┼────────────────────────┼───────────────┤\n",
       "│ dropout_5 (<span style=\"color: #0087ff; text-decoration-color: #0087ff\">Dropout</span>)             │ (<span style=\"color: #00d7ff; text-decoration-color: #00d7ff\">None</span>, <span style=\"color: #00af00; text-decoration-color: #00af00\">14</span>, <span style=\"color: #00af00; text-decoration-color: #00af00\">14</span>, <span style=\"color: #00af00; text-decoration-color: #00af00\">64</span>)     │             <span style=\"color: #00af00; text-decoration-color: #00af00\">0</span> │\n",
       "├─────────────────────────────────┼────────────────────────┼───────────────┤\n",
       "│ flatten_5 (<span style=\"color: #0087ff; text-decoration-color: #0087ff\">Flatten</span>)             │ (<span style=\"color: #00d7ff; text-decoration-color: #00d7ff\">None</span>, <span style=\"color: #00af00; text-decoration-color: #00af00\">12544</span>)          │             <span style=\"color: #00af00; text-decoration-color: #00af00\">0</span> │\n",
       "├─────────────────────────────────┼────────────────────────┼───────────────┤\n",
       "│ dense_15 (<span style=\"color: #0087ff; text-decoration-color: #0087ff\">Dense</span>)                │ (<span style=\"color: #00d7ff; text-decoration-color: #00d7ff\">None</span>, <span style=\"color: #00af00; text-decoration-color: #00af00\">32</span>)             │       <span style=\"color: #00af00; text-decoration-color: #00af00\">401,440</span> │\n",
       "├─────────────────────────────────┼────────────────────────┼───────────────┤\n",
       "│ dense_16 (<span style=\"color: #0087ff; text-decoration-color: #0087ff\">Dense</span>)                │ (<span style=\"color: #00d7ff; text-decoration-color: #00d7ff\">None</span>, <span style=\"color: #00af00; text-decoration-color: #00af00\">16</span>)             │           <span style=\"color: #00af00; text-decoration-color: #00af00\">528</span> │\n",
       "├─────────────────────────────────┼────────────────────────┼───────────────┤\n",
       "│ batch_normalization_5           │ (<span style=\"color: #00d7ff; text-decoration-color: #00d7ff\">None</span>, <span style=\"color: #00af00; text-decoration-color: #00af00\">16</span>)             │            <span style=\"color: #00af00; text-decoration-color: #00af00\">64</span> │\n",
       "│ (<span style=\"color: #0087ff; text-decoration-color: #0087ff\">BatchNormalization</span>)            │                        │               │\n",
       "├─────────────────────────────────┼────────────────────────┼───────────────┤\n",
       "│ dense_17 (<span style=\"color: #0087ff; text-decoration-color: #0087ff\">Dense</span>)                │ (<span style=\"color: #00d7ff; text-decoration-color: #00d7ff\">None</span>, <span style=\"color: #00af00; text-decoration-color: #00af00\">43</span>)             │           <span style=\"color: #00af00; text-decoration-color: #00af00\">731</span> │\n",
       "└─────────────────────────────────┴────────────────────────┴───────────────┘\n",
       "</pre>\n"
      ],
      "text/plain": [
       "┏━━━━━━━━━━━━━━━━━━━━━━━━━━━━━━━━━┳━━━━━━━━━━━━━━━━━━━━━━━━┳━━━━━━━━━━━━━━━┓\n",
       "┃\u001b[1m \u001b[0m\u001b[1mLayer (type)                   \u001b[0m\u001b[1m \u001b[0m┃\u001b[1m \u001b[0m\u001b[1mOutput Shape          \u001b[0m\u001b[1m \u001b[0m┃\u001b[1m \u001b[0m\u001b[1m      Param #\u001b[0m\u001b[1m \u001b[0m┃\n",
       "┡━━━━━━━━━━━━━━━━━━━━━━━━━━━━━━━━━╇━━━━━━━━━━━━━━━━━━━━━━━━╇━━━━━━━━━━━━━━━┩\n",
       "│ conv2d_5 (\u001b[38;5;33mConv2D\u001b[0m)               │ (\u001b[38;5;45mNone\u001b[0m, \u001b[38;5;34m28\u001b[0m, \u001b[38;5;34m28\u001b[0m, \u001b[38;5;34m64\u001b[0m)     │         \u001b[38;5;34m1,792\u001b[0m │\n",
       "├─────────────────────────────────┼────────────────────────┼───────────────┤\n",
       "│ max_pooling2d_5 (\u001b[38;5;33mMaxPooling2D\u001b[0m)  │ (\u001b[38;5;45mNone\u001b[0m, \u001b[38;5;34m14\u001b[0m, \u001b[38;5;34m14\u001b[0m, \u001b[38;5;34m64\u001b[0m)     │             \u001b[38;5;34m0\u001b[0m │\n",
       "├─────────────────────────────────┼────────────────────────┼───────────────┤\n",
       "│ batch_normalization_4           │ (\u001b[38;5;45mNone\u001b[0m, \u001b[38;5;34m14\u001b[0m, \u001b[38;5;34m14\u001b[0m, \u001b[38;5;34m64\u001b[0m)     │           \u001b[38;5;34m256\u001b[0m │\n",
       "│ (\u001b[38;5;33mBatchNormalization\u001b[0m)            │                        │               │\n",
       "├─────────────────────────────────┼────────────────────────┼───────────────┤\n",
       "│ dropout_5 (\u001b[38;5;33mDropout\u001b[0m)             │ (\u001b[38;5;45mNone\u001b[0m, \u001b[38;5;34m14\u001b[0m, \u001b[38;5;34m14\u001b[0m, \u001b[38;5;34m64\u001b[0m)     │             \u001b[38;5;34m0\u001b[0m │\n",
       "├─────────────────────────────────┼────────────────────────┼───────────────┤\n",
       "│ flatten_5 (\u001b[38;5;33mFlatten\u001b[0m)             │ (\u001b[38;5;45mNone\u001b[0m, \u001b[38;5;34m12544\u001b[0m)          │             \u001b[38;5;34m0\u001b[0m │\n",
       "├─────────────────────────────────┼────────────────────────┼───────────────┤\n",
       "│ dense_15 (\u001b[38;5;33mDense\u001b[0m)                │ (\u001b[38;5;45mNone\u001b[0m, \u001b[38;5;34m32\u001b[0m)             │       \u001b[38;5;34m401,440\u001b[0m │\n",
       "├─────────────────────────────────┼────────────────────────┼───────────────┤\n",
       "│ dense_16 (\u001b[38;5;33mDense\u001b[0m)                │ (\u001b[38;5;45mNone\u001b[0m, \u001b[38;5;34m16\u001b[0m)             │           \u001b[38;5;34m528\u001b[0m │\n",
       "├─────────────────────────────────┼────────────────────────┼───────────────┤\n",
       "│ batch_normalization_5           │ (\u001b[38;5;45mNone\u001b[0m, \u001b[38;5;34m16\u001b[0m)             │            \u001b[38;5;34m64\u001b[0m │\n",
       "│ (\u001b[38;5;33mBatchNormalization\u001b[0m)            │                        │               │\n",
       "├─────────────────────────────────┼────────────────────────┼───────────────┤\n",
       "│ dense_17 (\u001b[38;5;33mDense\u001b[0m)                │ (\u001b[38;5;45mNone\u001b[0m, \u001b[38;5;34m43\u001b[0m)             │           \u001b[38;5;34m731\u001b[0m │\n",
       "└─────────────────────────────────┴────────────────────────┴───────────────┘\n"
      ]
     },
     "metadata": {},
     "output_type": "display_data"
    },
    {
     "data": {
      "text/html": [
       "<pre style=\"white-space:pre;overflow-x:auto;line-height:normal;font-family:Menlo,'DejaVu Sans Mono',consolas,'Courier New',monospace\"><span style=\"font-weight: bold\"> Total params: </span><span style=\"color: #00af00; text-decoration-color: #00af00\">404,811</span> (1.54 MB)\n",
       "</pre>\n"
      ],
      "text/plain": [
       "\u001b[1m Total params: \u001b[0m\u001b[38;5;34m404,811\u001b[0m (1.54 MB)\n"
      ]
     },
     "metadata": {},
     "output_type": "display_data"
    },
    {
     "data": {
      "text/html": [
       "<pre style=\"white-space:pre;overflow-x:auto;line-height:normal;font-family:Menlo,'DejaVu Sans Mono',consolas,'Courier New',monospace\"><span style=\"font-weight: bold\"> Trainable params: </span><span style=\"color: #00af00; text-decoration-color: #00af00\">404,651</span> (1.54 MB)\n",
       "</pre>\n"
      ],
      "text/plain": [
       "\u001b[1m Trainable params: \u001b[0m\u001b[38;5;34m404,651\u001b[0m (1.54 MB)\n"
      ]
     },
     "metadata": {},
     "output_type": "display_data"
    },
    {
     "data": {
      "text/html": [
       "<pre style=\"white-space:pre;overflow-x:auto;line-height:normal;font-family:Menlo,'DejaVu Sans Mono',consolas,'Courier New',monospace\"><span style=\"font-weight: bold\"> Non-trainable params: </span><span style=\"color: #00af00; text-decoration-color: #00af00\">160</span> (640.00 B)\n",
       "</pre>\n"
      ],
      "text/plain": [
       "\u001b[1m Non-trainable params: \u001b[0m\u001b[38;5;34m160\u001b[0m (640.00 B)\n"
      ]
     },
     "metadata": {},
     "output_type": "display_data"
    }
   ],
   "source": [
    "model = models.Sequential([\n",
    "        layers.Conv2D(64, kernel_size=(3, 3), activation='relu', input_shape=(img_height, img_width,RGB)),\n",
    "        layers.MaxPool2D(2,2),\n",
    "        layers.BatchNormalization(axis=-1),\n",
    "        layers.Dropout(0.3),\n",
    "        layers.Flatten(),\n",
    "        layers.Dense(32, activation=\"relu\"),\n",
    "        layers.Dense(16, activation=\"relu\"),\n",
    "        layers.BatchNormalization(axis=-1),\n",
    "        layers.Dense(43, activation=\"softmax\")\n",
    "                          ])\n",
    "\n",
    "model.compile(optimizer='adam',loss='categorical_crossentropy',metrics=['accuracy'])\n",
    "model.summary()"
   ]
  },
  {
   "cell_type": "markdown",
   "id": "fe1c0940",
   "metadata": {},
   "source": [
    "## Training the Model\n",
    "Train the CNN model using the training data and validate it on the validation set."
   ]
  },
  {
   "cell_type": "code",
   "execution_count": 77,
   "id": "070df96b",
   "metadata": {},
   "outputs": [
    {
     "name": "stdout",
     "output_type": "stream",
     "text": [
      "<class 'list'> <class 'list'>\n"
     ]
    }
   ],
   "source": [
    "print(type(X_train), type(y_train))"
   ]
  },
  {
   "cell_type": "code",
   "execution_count": 79,
   "id": "3c9adc4d",
   "metadata": {},
   "outputs": [
    {
     "ename": "ValueError",
     "evalue": "could not convert string to float: 'e'",
     "output_type": "error",
     "traceback": [
      "\u001b[1;31m---------------------------------------------------------------------------\u001b[0m",
      "\u001b[1;31mValueError\u001b[0m                                Traceback (most recent call last)",
      "Cell \u001b[1;32mIn[79], line 1\u001b[0m\n\u001b[1;32m----> 1\u001b[0m X_train \u001b[38;5;241m=\u001b[39m np\u001b[38;5;241m.\u001b[39marray(X_train, dtype\u001b[38;5;241m=\u001b[39m\u001b[38;5;124m'\u001b[39m\u001b[38;5;124mfloat32\u001b[39m\u001b[38;5;124m'\u001b[39m) \u001b[38;5;241m/\u001b[39m \u001b[38;5;241m255.0\u001b[39m\n\u001b[0;32m      2\u001b[0m X_test \u001b[38;5;241m=\u001b[39m np\u001b[38;5;241m.\u001b[39marray(X_test, dtype\u001b[38;5;241m=\u001b[39m\u001b[38;5;124m'\u001b[39m\u001b[38;5;124mfloat32\u001b[39m\u001b[38;5;124m'\u001b[39m) \u001b[38;5;241m/\u001b[39m \u001b[38;5;241m255.0\u001b[39m\n",
      "\u001b[1;31mValueError\u001b[0m: could not convert string to float: 'e'"
     ]
    }
   ],
   "source": [
    "X_train = np.array(X_train, dtype='float32') / 255.0\n",
    "X_test = np.array(X_test, dtype='float32') / 255.0"
   ]
  },
  {
   "cell_type": "code",
   "execution_count": 68,
   "id": "1741bc7e",
   "metadata": {},
   "outputs": [],
   "source": [
    "\n",
    "X_train = np.array(X_train)\n",
    "y_train = np.array(y_train)"
   ]
  },
  {
   "cell_type": "code",
   "execution_count": 81,
   "id": "ce31faf9",
   "metadata": {},
   "outputs": [
    {
     "ename": "ValueError",
     "evalue": "Unrecognized data type: x=['e', 'T', 'ا', 'w', '/', 't', 'n', 'r', 's', 'f', 'n', 'r', 'c', 'ل', 'S', 'L', '/', 'U', 'e', '4', '/', 'f', 'r', 'e', 's', 'p', 'i', 'r', 'e', 'O', 'س', 'a', 'م', 'f', 'ا', 'k', 'a', 'D', 's', 'ت', 't', 'z', 'T', 'i', 'k', 'ن', ':', '_', 'v', '/', '/', 'a', 'n', 'i', 'i', 'S', '/', 'c'] (of type <class 'list'>)",
     "output_type": "error",
     "traceback": [
      "\u001b[1;31m---------------------------------------------------------------------------\u001b[0m",
      "\u001b[1;31mValueError\u001b[0m                                Traceback (most recent call last)",
      "Cell \u001b[1;32mIn[81], line 1\u001b[0m\n\u001b[1;32m----> 1\u001b[0m model\u001b[38;5;241m.\u001b[39mfit(X_train, y_train, batch_size\u001b[38;5;241m=\u001b[39m\u001b[38;5;241m2000\u001b[39m, epochs\u001b[38;5;241m=\u001b[39m\u001b[38;5;241m10\u001b[39m, validation_data\u001b[38;5;241m=\u001b[39m(X_test,y_test))\n",
      "File \u001b[1;32mc:\\Users\\SaadL\\anaconda3\\Lib\\site-packages\\keras\\src\\utils\\traceback_utils.py:122\u001b[0m, in \u001b[0;36mfilter_traceback.<locals>.error_handler\u001b[1;34m(*args, **kwargs)\u001b[0m\n\u001b[0;32m    119\u001b[0m     filtered_tb \u001b[38;5;241m=\u001b[39m _process_traceback_frames(e\u001b[38;5;241m.\u001b[39m__traceback__)\n\u001b[0;32m    120\u001b[0m     \u001b[38;5;66;03m# To get the full stack trace, call:\u001b[39;00m\n\u001b[0;32m    121\u001b[0m     \u001b[38;5;66;03m# `keras.config.disable_traceback_filtering()`\u001b[39;00m\n\u001b[1;32m--> 122\u001b[0m     \u001b[38;5;28;01mraise\u001b[39;00m e\u001b[38;5;241m.\u001b[39mwith_traceback(filtered_tb) \u001b[38;5;28;01mfrom\u001b[39;00m \u001b[38;5;28;01mNone\u001b[39;00m\n\u001b[0;32m    123\u001b[0m \u001b[38;5;28;01mfinally\u001b[39;00m:\n\u001b[0;32m    124\u001b[0m     \u001b[38;5;28;01mdel\u001b[39;00m filtered_tb\n",
      "File \u001b[1;32mc:\\Users\\SaadL\\anaconda3\\Lib\\site-packages\\keras\\src\\trainers\\data_adapters\\__init__.py:120\u001b[0m, in \u001b[0;36mget_data_adapter\u001b[1;34m(x, y, sample_weight, batch_size, steps_per_epoch, shuffle, class_weight)\u001b[0m\n\u001b[0;32m    112\u001b[0m     \u001b[38;5;28;01mreturn\u001b[39;00m GeneratorDataAdapter(x)\n\u001b[0;32m    113\u001b[0m     \u001b[38;5;66;03m# TODO: should we warn or not?\u001b[39;00m\n\u001b[0;32m    114\u001b[0m     \u001b[38;5;66;03m# warnings.warn(\u001b[39;00m\n\u001b[0;32m    115\u001b[0m     \u001b[38;5;66;03m#     \"`shuffle=True` was passed, but will be ignored since the \"\u001b[39;00m\n\u001b[1;32m   (...)\u001b[0m\n\u001b[0;32m    118\u001b[0m     \u001b[38;5;66;03m# )\u001b[39;00m\n\u001b[0;32m    119\u001b[0m \u001b[38;5;28;01melse\u001b[39;00m:\n\u001b[1;32m--> 120\u001b[0m     \u001b[38;5;28;01mraise\u001b[39;00m \u001b[38;5;167;01mValueError\u001b[39;00m(\u001b[38;5;124mf\u001b[39m\u001b[38;5;124m\"\u001b[39m\u001b[38;5;124mUnrecognized data type: x=\u001b[39m\u001b[38;5;132;01m{\u001b[39;00mx\u001b[38;5;132;01m}\u001b[39;00m\u001b[38;5;124m (of type \u001b[39m\u001b[38;5;132;01m{\u001b[39;00m\u001b[38;5;28mtype\u001b[39m(x)\u001b[38;5;132;01m}\u001b[39;00m\u001b[38;5;124m)\u001b[39m\u001b[38;5;124m\"\u001b[39m)\n",
      "\u001b[1;31mValueError\u001b[0m: Unrecognized data type: x=['e', 'T', 'ا', 'w', '/', 't', 'n', 'r', 's', 'f', 'n', 'r', 'c', 'ل', 'S', 'L', '/', 'U', 'e', '4', '/', 'f', 'r', 'e', 's', 'p', 'i', 'r', 'e', 'O', 'س', 'a', 'م', 'f', 'ا', 'k', 'a', 'D', 's', 'ت', 't', 'z', 'T', 'i', 'k', 'ن', ':', '_', 'v', '/', '/', 'a', 'n', 'i', 'i', 'S', '/', 'c'] (of type <class 'list'>)"
     ]
    }
   ],
   "source": [
    "model.fit(X_train, y_train, batch_size=2000, epochs=10, validation_data=(X_test,y_test))"
   ]
  },
  {
   "cell_type": "markdown",
   "id": "25ad1b22",
   "metadata": {},
   "source": [
    "## Evaluate the Model\n",
    "Evaluate the performance of the model on the test set."
   ]
  },
  {
   "cell_type": "code",
   "execution_count": null,
   "id": "eb9ed70f",
   "metadata": {},
   "outputs": [],
   "source": [
    "model.evaluate(X_test)"
   ]
  },
  {
   "cell_type": "markdown",
   "id": "a37fca33",
   "metadata": {},
   "source": [
    "## Make Predictions\n",
    "Use the trained model to make predictions on new or unseen traffic sign images."
   ]
  },
  {
   "cell_type": "markdown",
   "id": "f1ab3608",
   "metadata": {},
   "source": [
    "if you need new, we prepared some data for you [here](https://drive.google.com/file/d/1S_vpQntND9839x8kJpegaEgtSIA4JxHO/view?usp=sharing), or you can simply run the following command to get the data and unzip it.\n",
    "\n",
    "<small>Note: please note that the file contain MetaData to tell you what each image contains <b>THIS IS JUST FOR YOU TO MAKE SURE</b></smmall>"
   ]
  },
  {
   "cell_type": "code",
   "execution_count": null,
   "id": "a7a5c981",
   "metadata": {},
   "outputs": [],
   "source": [
    "#https://drive.google.com/file/d/1S_vpQntND9839x8kJpegaEgtSIA4JxHO/view?usp=sharing\n",
    "!gdown --id 1S_vpQntND9839x8kJpegaEgtSIA4JxHO\n",
    "!unzip Test_Dataset.zip"
   ]
  },
  {
   "cell_type": "code",
   "execution_count": null,
   "id": "be46ba26",
   "metadata": {},
   "outputs": [],
   "source": []
  },
  {
   "cell_type": "markdown",
   "id": "8430600d",
   "metadata": {},
   "source": [
    "## Model Performance Visualization\n",
    "Visualize performance metrics such as accuracy and loss over the epochs."
   ]
  },
  {
   "cell_type": "code",
   "execution_count": null,
   "id": "50624cfe",
   "metadata": {},
   "outputs": [],
   "source": []
  },
  {
   "cell_type": "markdown",
   "id": "8d4f3348",
   "metadata": {},
   "source": [
    "## Save the Model\n",
    "Save the trained CNN model for submission."
   ]
  },
  {
   "cell_type": "code",
   "execution_count": null,
   "id": "fe6b2df0",
   "metadata": {},
   "outputs": [],
   "source": [
    "model.save('week4_atsk2.h5')"
   ]
  },
  {
   "cell_type": "markdown",
   "id": "ed90995f",
   "metadata": {},
   "source": [
    "## Project Questions:\n",
    "\n",
    "1. **Data Preprocessing**: Explain why you chose your specific data preprocessing techniques (e.g., resizing images, normalization, data augmentation). How do these preprocessing steps improve the performance of your CNN model?\n",
    "2. **Model Architecture**: Describe the architecture of your CNN model (e.g., number of convolutional layers, kernel sizes, pooling layers). Why did you choose this structure, and how do you expect each layer to contribute to feature extraction?\n",
    "3. **Activation Functions**: Justify your choice of activation functions. How do they influence the training and output of your CNN?\n",
    "4. **Training Process**: Discuss your choice of batch size, number of epochs, and optimizer. How did these decisions impact the training process and the convergence of the model?\n",
    "5. **Loss Function and Metrics**: Explain why you chose the specific loss function and evaluation metrics for this classification task. How do they align with the goal of correctly classifying traffic signs?\n",
    "6. **Regularization Techniques**: If you used regularization methods like dropout or batch normalization, explain why you implemented them and how they helped prevent overfitting in your model.\n",
    "7. **Model Evaluation**: Justify the method you used to evaluate your model's performance on the test set. Why did you select these evaluation techniques, and what insights did they provide about your model's accuracy and generalization ability?\n",
    "8. **Model Visualization**: Explain the significance of the performance visualizations (e.g., accuracy and loss curves). What do they tell you about your model's training process and its ability to generalize?\n",
    "9. **Overfitting and Underfitting**: Analyze whether the model encountered any overfitting or underfitting during training. What strategies could you implement to mitigate these issues?"
   ]
  },
  {
   "cell_type": "markdown",
   "id": "02e7f114",
   "metadata": {},
   "source": [
    "### Answer Here:"
   ]
  }
 ],
 "metadata": {
  "kernelspec": {
   "display_name": "base",
   "language": "python",
   "name": "python3"
  },
  "language_info": {
   "codemirror_mode": {
    "name": "ipython",
    "version": 3
   },
   "file_extension": ".py",
   "mimetype": "text/x-python",
   "name": "python",
   "nbconvert_exporter": "python",
   "pygments_lexer": "ipython3",
   "version": "3.12.4"
  }
 },
 "nbformat": 4,
 "nbformat_minor": 5
}
