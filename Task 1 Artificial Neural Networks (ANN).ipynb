{
 "cells": [
  {
   "cell_type": "markdown",
   "id": "cda1ba95",
   "metadata": {},
   "source": [
    "# Exam on Artificial Neural Networks (ANN)\n",
    "\n",
    "Welcome the Artificial Neural Networks (ANN) practical exam. In this exam, you will work on a classification task to predict the outcome of incidents involving buses. You are provided with a dataset that records breakdowns and delays in bus operations. Your task is to build, train, and evaluate an ANN model.\n",
    "\n",
    "---\n",
    "\n",
    "## Dataset Overview\n",
    "\n",
    "### **Dataset:**\n",
    "* Just run the command under the `Load Data` section to get the data downloaded and unzipped or you can access it [here](https://drive.google.com/file/d/1Flvj3qDkV2rPw7GGi5zOR-WGJgEBtRk-/view?usp=sharing)\n",
    "\n",
    "### **Dataset Name:** Bus Breakdown and Delays\n",
    "\n",
    "### **Description:**  \n",
    "The dataset contains records of incidents involving buses that were either running late or experienced a breakdown. Your task is to predict whether the bus was delayed or had a breakdown based on the features provided.\n",
    "\n",
    "### **Features:**\n",
    "The dataset contains the following columns:\n",
    "\n",
    "- `School_Year`\n",
    "- `Busbreakdown_ID`\n",
    "- `Run_Type`\n",
    "- `Bus_No`\n",
    "- `Route_Number`\n",
    "- `Reason`\n",
    "- `Schools_Serviced`\n",
    "- `Occurred_On`\n",
    "- `Created_On`\n",
    "- `Boro`\n",
    "- `Bus_Company_Name`\n",
    "- `How_Long_Delayed`\n",
    "- `Number_Of_Students_On_The_Bus`\n",
    "- `Has_Contractor_Notified_Schools`\n",
    "- `Has_Contractor_Notified_Parents`\n",
    "- `Have_You_Alerted_OPT`\n",
    "- `Informed_On`\n",
    "- `Incident_Number`\n",
    "- `Last_Updated_On`\n",
    "- `Breakdown_or_Running_Late` (Target Column)\n",
    "- `School_Age_or_PreK`"
   ]
  },
  {
   "cell_type": "markdown",
   "id": "4c2b014b",
   "metadata": {},
   "source": [
    "## Load Data"
   ]
  },
  {
   "cell_type": "code",
   "execution_count": 1,
   "id": "98ad02f5",
   "metadata": {},
   "outputs": [
    {
     "name": "stdout",
     "output_type": "stream",
     "text": [
      "Collecting gdown\n",
      "  Downloading gdown-5.2.0-py3-none-any.whl.metadata (5.8 kB)\n",
      "Requirement already satisfied: beautifulsoup4 in c:\\users\\saadl\\anaconda3\\lib\\site-packages (from gdown) (4.12.3)\n",
      "Requirement already satisfied: filelock in c:\\users\\saadl\\anaconda3\\lib\\site-packages (from gdown) (3.13.1)\n",
      "Requirement already satisfied: requests[socks] in c:\\users\\saadl\\anaconda3\\lib\\site-packages (from gdown) (2.32.2)\n",
      "Requirement already satisfied: tqdm in c:\\users\\saadl\\anaconda3\\lib\\site-packages (from gdown) (4.66.4)\n",
      "Requirement already satisfied: soupsieve>1.2 in c:\\users\\saadl\\anaconda3\\lib\\site-packages (from beautifulsoup4->gdown) (2.5)\n",
      "Requirement already satisfied: charset-normalizer<4,>=2 in c:\\users\\saadl\\anaconda3\\lib\\site-packages (from requests[socks]->gdown) (2.0.4)\n",
      "Requirement already satisfied: idna<4,>=2.5 in c:\\users\\saadl\\anaconda3\\lib\\site-packages (from requests[socks]->gdown) (3.7)\n",
      "Requirement already satisfied: urllib3<3,>=1.21.1 in c:\\users\\saadl\\anaconda3\\lib\\site-packages (from requests[socks]->gdown) (2.2.2)\n",
      "Requirement already satisfied: certifi>=2017.4.17 in c:\\users\\saadl\\anaconda3\\lib\\site-packages (from requests[socks]->gdown) (2024.7.4)\n",
      "Requirement already satisfied: PySocks!=1.5.7,>=1.5.6 in c:\\users\\saadl\\anaconda3\\lib\\site-packages (from requests[socks]->gdown) (1.7.1)\n",
      "Requirement already satisfied: colorama in c:\\users\\saadl\\anaconda3\\lib\\site-packages (from tqdm->gdown) (0.4.6)\n",
      "Downloading gdown-5.2.0-py3-none-any.whl (18 kB)\n",
      "Installing collected packages: gdown\n",
      "Successfully installed gdown-5.2.0\n"
     ]
    },
    {
     "name": "stderr",
     "output_type": "stream",
     "text": [
      "C:\\Users\\SaadL\\anaconda3\\Lib\\site-packages\\gdown\\__main__.py:140: FutureWarning: Option `--id` was deprecated in version 4.3.1 and will be removed in 5.0. You don't need to pass it anymore to use a file ID.\n",
      "  warnings.warn(\n",
      "Downloading...\n",
      "From: https://drive.google.com/uc?id=1Flvj3qDkV2rPw7GGi5zOR-WGJgEBtRk-\n",
      "To: c:\\Users\\SaadL\\OneDrive\\المستندات\\week4_task\\Bus_Breakdown_and_Delays.csv\n",
      "\n",
      "  0%|          | 0.00/34.4M [00:00<?, ?B/s]\n",
      "  2%|▏         | 524k/34.4M [00:00<00:19, 1.78MB/s]\n",
      "  5%|▍         | 1.57M/34.4M [00:00<00:07, 4.17MB/s]\n",
      " 12%|█▏        | 4.19M/34.4M [00:00<00:02, 10.3MB/s]\n",
      " 21%|██▏       | 7.34M/34.4M [00:00<00:01, 16.3MB/s]\n",
      " 27%|██▋       | 9.44M/34.4M [00:00<00:02, 10.5MB/s]\n",
      " 47%|████▋     | 16.3M/34.4M [00:01<00:01, 14.9MB/s]\n",
      " 62%|██████▏   | 21.5M/34.4M [00:01<00:00, 20.9MB/s]\n",
      " 72%|███████▏  | 24.6M/34.4M [00:01<00:00, 20.1MB/s]\n",
      " 79%|███████▉  | 27.3M/34.4M [00:01<00:00, 19.2MB/s]\n",
      " 87%|████████▋ | 29.9M/34.4M [00:01<00:00, 18.7MB/s]\n",
      " 93%|█████████▎| 32.0M/34.4M [00:02<00:00, 18.4MB/s]\n",
      " 99%|█████████▉| 34.1M/34.4M [00:02<00:00, 18.1MB/s]\n",
      "100%|██████████| 34.4M/34.4M [00:02<00:00, 15.9MB/s]\n"
     ]
    }
   ],
   "source": [
    "#https://drive.google.com/file/d/1Flvj3qDkV2rPw7GGi5zOR-WGJgEBtRk-/view?usp=sharing\n",
    "!pip install gdown\n",
    "!gdown --id 1Flvj3qDkV2rPw7GGi5zOR-WGJgEBtRk-"
   ]
  },
  {
   "cell_type": "code",
   "execution_count": 46,
   "id": "5b945824",
   "metadata": {},
   "outputs": [],
   "source": [
    "df = pd.read_csv(r\"C:/Users/SaadL/OneDrive/المستندات/week4_task/Bus_Breakdown_and_Delays.csv\")"
   ]
  },
  {
   "cell_type": "markdown",
   "id": "3e39620c",
   "metadata": {},
   "source": [
    "## Importing Libraries"
   ]
  },
  {
   "cell_type": "code",
   "execution_count": 68,
   "id": "62381953",
   "metadata": {},
   "outputs": [],
   "source": [
    "import pandas as pd \n",
    "import tensorflow as tf \n",
    "import keras\n",
    "from keras import layers\n",
    "import matplotlib.pyplot as plt\n",
    "import seaborn as sns\n",
    "import sklearn\n",
    "import numpy as np\n"
   ]
  },
  {
   "cell_type": "markdown",
   "id": "71ccd4e2",
   "metadata": {},
   "source": [
    "## Exploratory Data Analysis (EDA)\n",
    "This could include:\n",
    "* **Inspect the dataset**\n",
    "\n",
    "* **Dataset structure**\n",
    "\n",
    "* **Summary statistics**\n",
    "\n",
    "* **Check for missing values**\n",
    "\n",
    "* **Distribution of features**\n",
    "\n",
    "* **Categorical feature analysis**\n",
    "\n",
    "* **Correlation matrix**\n",
    "\n",
    "* **Outlier detection**\n",
    "\n",
    "And add more as needed!"
   ]
  },
  {
   "cell_type": "code",
   "execution_count": 48,
   "id": "14a95c56",
   "metadata": {},
   "outputs": [
    {
     "name": "stdout",
     "output_type": "stream",
     "text": [
      "<class 'pandas.core.frame.DataFrame'>\n",
      "RangeIndex: 147972 entries, 0 to 147971\n",
      "Data columns (total 21 columns):\n",
      " #   Column                           Non-Null Count   Dtype \n",
      "---  ------                           --------------   ----- \n",
      " 0   School_Year                      147972 non-null  object\n",
      " 1   Busbreakdown_ID                  147972 non-null  int64 \n",
      " 2   Run_Type                         147883 non-null  object\n",
      " 3   Bus_No                           147972 non-null  object\n",
      " 4   Route_Number                     147884 non-null  object\n",
      " 5   Reason                           147870 non-null  object\n",
      " 6   Schools_Serviced                 147972 non-null  object\n",
      " 7   Occurred_On                      147972 non-null  object\n",
      " 8   Created_On                       147972 non-null  object\n",
      " 9   Boro                             141654 non-null  object\n",
      " 10  Bus_Company_Name                 147972 non-null  object\n",
      " 11  How_Long_Delayed                 126342 non-null  object\n",
      " 12  Number_Of_Students_On_The_Bus    147972 non-null  int64 \n",
      " 13  Has_Contractor_Notified_Schools  147972 non-null  object\n",
      " 14  Has_Contractor_Notified_Parents  147972 non-null  object\n",
      " 15  Have_You_Alerted_OPT             147972 non-null  object\n",
      " 16  Informed_On                      147972 non-null  object\n",
      " 17  Incident_Number                  5632 non-null    object\n",
      " 18  Last_Updated_On                  147972 non-null  object\n",
      " 19  Breakdown_or_Running_Late        147972 non-null  object\n",
      " 20  School_Age_or_PreK               147972 non-null  object\n",
      "dtypes: int64(2), object(19)\n",
      "memory usage: 23.7+ MB\n"
     ]
    }
   ],
   "source": [
    "df.info()"
   ]
  },
  {
   "cell_type": "code",
   "execution_count": 49,
   "id": "bd8351d3",
   "metadata": {},
   "outputs": [
    {
     "data": {
      "text/html": [
       "<div>\n",
       "<style scoped>\n",
       "    .dataframe tbody tr th:only-of-type {\n",
       "        vertical-align: middle;\n",
       "    }\n",
       "\n",
       "    .dataframe tbody tr th {\n",
       "        vertical-align: top;\n",
       "    }\n",
       "\n",
       "    .dataframe thead th {\n",
       "        text-align: right;\n",
       "    }\n",
       "</style>\n",
       "<table border=\"1\" class=\"dataframe\">\n",
       "  <thead>\n",
       "    <tr style=\"text-align: right;\">\n",
       "      <th></th>\n",
       "      <th>School_Year</th>\n",
       "      <th>Busbreakdown_ID</th>\n",
       "      <th>Run_Type</th>\n",
       "      <th>Bus_No</th>\n",
       "      <th>Route_Number</th>\n",
       "      <th>Reason</th>\n",
       "      <th>Schools_Serviced</th>\n",
       "      <th>Occurred_On</th>\n",
       "      <th>Created_On</th>\n",
       "      <th>Boro</th>\n",
       "      <th>Bus_Company_Name</th>\n",
       "      <th>How_Long_Delayed</th>\n",
       "      <th>Number_Of_Students_On_The_Bus</th>\n",
       "      <th>Has_Contractor_Notified_Schools</th>\n",
       "      <th>Has_Contractor_Notified_Parents</th>\n",
       "      <th>Have_You_Alerted_OPT</th>\n",
       "      <th>Informed_On</th>\n",
       "      <th>Incident_Number</th>\n",
       "      <th>Last_Updated_On</th>\n",
       "      <th>Breakdown_or_Running_Late</th>\n",
       "      <th>School_Age_or_PreK</th>\n",
       "    </tr>\n",
       "  </thead>\n",
       "  <tbody>\n",
       "    <tr>\n",
       "      <th>0</th>\n",
       "      <td>2015-2016</td>\n",
       "      <td>1224901</td>\n",
       "      <td>Pre-K/EI</td>\n",
       "      <td>811</td>\n",
       "      <td>1</td>\n",
       "      <td>Other</td>\n",
       "      <td>C353</td>\n",
       "      <td>10/26/2015 08:30:00 AM</td>\n",
       "      <td>10/26/2015 08:40:00 AM</td>\n",
       "      <td>Bronx</td>\n",
       "      <td>G.V.C., LTD.</td>\n",
       "      <td>10MINUTES</td>\n",
       "      <td>5</td>\n",
       "      <td>Yes</td>\n",
       "      <td>Yes</td>\n",
       "      <td>No</td>\n",
       "      <td>10/26/2015 08:40:00 AM</td>\n",
       "      <td>NaN</td>\n",
       "      <td>10/26/2015 08:40:39 AM</td>\n",
       "      <td>Running Late</td>\n",
       "      <td>Pre-K</td>\n",
       "    </tr>\n",
       "    <tr>\n",
       "      <th>1</th>\n",
       "      <td>2015-2016</td>\n",
       "      <td>1225098</td>\n",
       "      <td>Pre-K/EI</td>\n",
       "      <td>9302</td>\n",
       "      <td>1</td>\n",
       "      <td>Heavy Traffic</td>\n",
       "      <td>C814</td>\n",
       "      <td>10/27/2015 07:10:00 AM</td>\n",
       "      <td>10/27/2015 07:11:00 AM</td>\n",
       "      <td>Bronx</td>\n",
       "      <td>G.V.C., LTD.</td>\n",
       "      <td>25 MINUTES</td>\n",
       "      <td>3</td>\n",
       "      <td>Yes</td>\n",
       "      <td>Yes</td>\n",
       "      <td>No</td>\n",
       "      <td>10/27/2015 07:11:00 AM</td>\n",
       "      <td>NaN</td>\n",
       "      <td>10/27/2015 07:11:22 AM</td>\n",
       "      <td>Running Late</td>\n",
       "      <td>Pre-K</td>\n",
       "    </tr>\n",
       "    <tr>\n",
       "      <th>2</th>\n",
       "      <td>2015-2016</td>\n",
       "      <td>1215800</td>\n",
       "      <td>Pre-K/EI</td>\n",
       "      <td>358</td>\n",
       "      <td>2</td>\n",
       "      <td>Heavy Traffic</td>\n",
       "      <td>C195</td>\n",
       "      <td>09/18/2015 07:36:00 AM</td>\n",
       "      <td>09/18/2015 07:38:00 AM</td>\n",
       "      <td>Bronx</td>\n",
       "      <td>G.V.C., LTD.</td>\n",
       "      <td>15 MINUTES</td>\n",
       "      <td>12</td>\n",
       "      <td>Yes</td>\n",
       "      <td>Yes</td>\n",
       "      <td>Yes</td>\n",
       "      <td>09/18/2015 07:38:00 AM</td>\n",
       "      <td>NaN</td>\n",
       "      <td>09/18/2015 07:38:44 AM</td>\n",
       "      <td>Running Late</td>\n",
       "      <td>Pre-K</td>\n",
       "    </tr>\n",
       "    <tr>\n",
       "      <th>3</th>\n",
       "      <td>2015-2016</td>\n",
       "      <td>1215511</td>\n",
       "      <td>Pre-K/EI</td>\n",
       "      <td>331</td>\n",
       "      <td>2</td>\n",
       "      <td>Other</td>\n",
       "      <td>C178</td>\n",
       "      <td>09/17/2015 08:08:00 AM</td>\n",
       "      <td>09/17/2015 08:12:00 AM</td>\n",
       "      <td>Bronx</td>\n",
       "      <td>G.V.C., LTD.</td>\n",
       "      <td>10 minutes</td>\n",
       "      <td>11</td>\n",
       "      <td>Yes</td>\n",
       "      <td>Yes</td>\n",
       "      <td>Yes</td>\n",
       "      <td>09/17/2015 08:12:00 AM</td>\n",
       "      <td>NaN</td>\n",
       "      <td>09/17/2015 08:12:08 AM</td>\n",
       "      <td>Running Late</td>\n",
       "      <td>Pre-K</td>\n",
       "    </tr>\n",
       "    <tr>\n",
       "      <th>4</th>\n",
       "      <td>2015-2016</td>\n",
       "      <td>1215828</td>\n",
       "      <td>Pre-K/EI</td>\n",
       "      <td>332</td>\n",
       "      <td>2</td>\n",
       "      <td>Other</td>\n",
       "      <td>S176</td>\n",
       "      <td>09/18/2015 07:39:00 AM</td>\n",
       "      <td>09/18/2015 07:45:00 AM</td>\n",
       "      <td>Bronx</td>\n",
       "      <td>G.V.C., LTD.</td>\n",
       "      <td>10MINUTES</td>\n",
       "      <td>12</td>\n",
       "      <td>Yes</td>\n",
       "      <td>Yes</td>\n",
       "      <td>No</td>\n",
       "      <td>09/18/2015 07:45:00 AM</td>\n",
       "      <td>NaN</td>\n",
       "      <td>09/18/2015 07:56:40 AM</td>\n",
       "      <td>Running Late</td>\n",
       "      <td>Pre-K</td>\n",
       "    </tr>\n",
       "  </tbody>\n",
       "</table>\n",
       "</div>"
      ],
      "text/plain": [
       "  School_Year  Busbreakdown_ID  ... Breakdown_or_Running_Late School_Age_or_PreK\n",
       "0   2015-2016          1224901  ...              Running Late              Pre-K\n",
       "1   2015-2016          1225098  ...              Running Late              Pre-K\n",
       "2   2015-2016          1215800  ...              Running Late              Pre-K\n",
       "3   2015-2016          1215511  ...              Running Late              Pre-K\n",
       "4   2015-2016          1215828  ...              Running Late              Pre-K\n",
       "\n",
       "[5 rows x 21 columns]"
      ]
     },
     "execution_count": 49,
     "metadata": {},
     "output_type": "execute_result"
    }
   ],
   "source": [
    "df.head()"
   ]
  },
  {
   "cell_type": "code",
   "execution_count": 50,
   "id": "0b800b0c",
   "metadata": {},
   "outputs": [
    {
     "data": {
      "text/html": [
       "<div>\n",
       "<style scoped>\n",
       "    .dataframe tbody tr th:only-of-type {\n",
       "        vertical-align: middle;\n",
       "    }\n",
       "\n",
       "    .dataframe tbody tr th {\n",
       "        vertical-align: top;\n",
       "    }\n",
       "\n",
       "    .dataframe thead th {\n",
       "        text-align: right;\n",
       "    }\n",
       "</style>\n",
       "<table border=\"1\" class=\"dataframe\">\n",
       "  <thead>\n",
       "    <tr style=\"text-align: right;\">\n",
       "      <th></th>\n",
       "      <th>Busbreakdown_ID</th>\n",
       "      <th>Number_Of_Students_On_The_Bus</th>\n",
       "    </tr>\n",
       "  </thead>\n",
       "  <tbody>\n",
       "    <tr>\n",
       "      <th>count</th>\n",
       "      <td>1.479720e+05</td>\n",
       "      <td>147972.000000</td>\n",
       "    </tr>\n",
       "    <tr>\n",
       "      <th>mean</th>\n",
       "      <td>1.287779e+06</td>\n",
       "      <td>3.590071</td>\n",
       "    </tr>\n",
       "    <tr>\n",
       "      <th>std</th>\n",
       "      <td>4.324338e+04</td>\n",
       "      <td>55.365859</td>\n",
       "    </tr>\n",
       "    <tr>\n",
       "      <th>min</th>\n",
       "      <td>1.212681e+06</td>\n",
       "      <td>0.000000</td>\n",
       "    </tr>\n",
       "    <tr>\n",
       "      <th>25%</th>\n",
       "      <td>1.250438e+06</td>\n",
       "      <td>0.000000</td>\n",
       "    </tr>\n",
       "    <tr>\n",
       "      <th>50%</th>\n",
       "      <td>1.287844e+06</td>\n",
       "      <td>0.000000</td>\n",
       "    </tr>\n",
       "    <tr>\n",
       "      <th>75%</th>\n",
       "      <td>1.325191e+06</td>\n",
       "      <td>4.000000</td>\n",
       "    </tr>\n",
       "    <tr>\n",
       "      <th>max</th>\n",
       "      <td>1.362605e+06</td>\n",
       "      <td>9007.000000</td>\n",
       "    </tr>\n",
       "  </tbody>\n",
       "</table>\n",
       "</div>"
      ],
      "text/plain": [
       "       Busbreakdown_ID  Number_Of_Students_On_The_Bus\n",
       "count     1.479720e+05                  147972.000000\n",
       "mean      1.287779e+06                       3.590071\n",
       "std       4.324338e+04                      55.365859\n",
       "min       1.212681e+06                       0.000000\n",
       "25%       1.250438e+06                       0.000000\n",
       "50%       1.287844e+06                       0.000000\n",
       "75%       1.325191e+06                       4.000000\n",
       "max       1.362605e+06                    9007.000000"
      ]
     },
     "execution_count": 50,
     "metadata": {},
     "output_type": "execute_result"
    }
   ],
   "source": [
    "df.describe()"
   ]
  },
  {
   "cell_type": "code",
   "execution_count": 51,
   "id": "2fb02d4f",
   "metadata": {},
   "outputs": [
    {
     "data": {
      "text/plain": [
       "School_Year                             0\n",
       "Busbreakdown_ID                         0\n",
       "Run_Type                               89\n",
       "Bus_No                                  0\n",
       "Route_Number                           88\n",
       "Reason                                102\n",
       "Schools_Serviced                        0\n",
       "Occurred_On                             0\n",
       "Created_On                              0\n",
       "Boro                                 6318\n",
       "Bus_Company_Name                        0\n",
       "How_Long_Delayed                    21630\n",
       "Number_Of_Students_On_The_Bus           0\n",
       "Has_Contractor_Notified_Schools         0\n",
       "Has_Contractor_Notified_Parents         0\n",
       "Have_You_Alerted_OPT                    0\n",
       "Informed_On                             0\n",
       "Incident_Number                    142340\n",
       "Last_Updated_On                         0\n",
       "Breakdown_or_Running_Late               0\n",
       "School_Age_or_PreK                      0\n",
       "dtype: int64"
      ]
     },
     "execution_count": 51,
     "metadata": {},
     "output_type": "execute_result"
    }
   ],
   "source": [
    "df.isnull().sum()"
   ]
  },
  {
   "cell_type": "code",
   "execution_count": 52,
   "id": "f40eece6",
   "metadata": {},
   "outputs": [
    {
     "data": {
      "text/plain": [
       "array([[<Axes: title={'center': 'Busbreakdown_ID'}>,\n",
       "        <Axes: title={'center': 'Number_Of_Students_On_The_Bus'}>]],\n",
       "      dtype=object)"
      ]
     },
     "execution_count": 52,
     "metadata": {},
     "output_type": "execute_result"
    },
    {
     "data": {
      "image/png": "[encoded data removed]",
      "text/plain": [
       "<Figure size 640x480 with 2 Axes>"
      ]
     },
     "metadata": {},
     "output_type": "display_data"
    }
   ],
   "source": [
    "df.hist()"
   ]
  },
  {
   "cell_type": "code",
   "execution_count": 53,
   "id": "3ff304f7",
   "metadata": {},
   "outputs": [
    {
     "data": {
      "text/html": [
       "<div>\n",
       "<style scoped>\n",
       "    .dataframe tbody tr th:only-of-type {\n",
       "        vertical-align: middle;\n",
       "    }\n",
       "\n",
       "    .dataframe tbody tr th {\n",
       "        vertical-align: top;\n",
       "    }\n",
       "\n",
       "    .dataframe thead th {\n",
       "        text-align: right;\n",
       "    }\n",
       "</style>\n",
       "<table border=\"1\" class=\"dataframe\">\n",
       "  <thead>\n",
       "    <tr style=\"text-align: right;\">\n",
       "      <th></th>\n",
       "      <th>Busbreakdown_ID</th>\n",
       "      <th>Number_Of_Students_On_The_Bus</th>\n",
       "    </tr>\n",
       "  </thead>\n",
       "  <tbody>\n",
       "    <tr>\n",
       "      <th>Busbreakdown_ID</th>\n",
       "      <td>1.000000</td>\n",
       "      <td>-0.016243</td>\n",
       "    </tr>\n",
       "    <tr>\n",
       "      <th>Number_Of_Students_On_The_Bus</th>\n",
       "      <td>-0.016243</td>\n",
       "      <td>1.000000</td>\n",
       "    </tr>\n",
       "  </tbody>\n",
       "</table>\n",
       "</div>"
      ],
      "text/plain": [
       "                               Busbreakdown_ID  Number_Of_Students_On_The_Bus\n",
       "Busbreakdown_ID                       1.000000                      -0.016243\n",
       "Number_Of_Students_On_The_Bus        -0.016243                       1.000000"
      ]
     },
     "execution_count": 53,
     "metadata": {},
     "output_type": "execute_result"
    }
   ],
   "source": [
    "df.corr(numeric_only=True)"
   ]
  },
  {
   "cell_type": "code",
   "execution_count": 54,
   "id": "cac6174b",
   "metadata": {},
   "outputs": [
    {
     "data": {
      "text/plain": [
       "<Axes: >"
      ]
     },
     "execution_count": 54,
     "metadata": {},
     "output_type": "execute_result"
    },
    {
     "data": {
      "image/png": "[encoded data removed]",
      "text/plain": [
       "<Figure size 1000x1000 with 1 Axes>"
      ]
     },
     "metadata": {},
     "output_type": "display_data"
    }
   ],
   "source": [
    "df.boxplot(figsize=(10,10))"
   ]
  },
  {
   "cell_type": "code",
   "execution_count": 14,
   "id": "cb867978",
   "metadata": {},
   "outputs": [
    {
     "data": {
      "text/plain": [
       "<Axes: >"
      ]
     },
     "execution_count": 14,
     "metadata": {},
     "output_type": "execute_result"
    },
    {
     "data": {
      "image/png": "[encoded data removed]",
      "text/plain": [
       "<Figure size 1000x1000 with 1 Axes>"
      ]
     },
     "metadata": {},
     "output_type": "display_data"
    }
   ],
   "source": [
    "df.boxplot('Number_Of_Students_On_The_Bus',figsize=(10,10))"
   ]
  },
  {
   "cell_type": "markdown",
   "id": "1a559e40",
   "metadata": {},
   "source": [
    "## Data Preprocessing\n",
    "This could include:\n",
    "\n",
    "* **Handle Missing Values**\n",
    "    * Impute missing values or drop them.\n",
    "\n",
    "* **Encode Categorical Variables**\n",
    "    * One-hot encoding\n",
    "    * Label encoding\n",
    "\n",
    "* **Scale and Normalize Data**\n",
    "    * Standardization (Z-score)\n",
    "    * Min-Max scaling\n",
    "\n",
    "* **Feature Engineering**\n",
    "    * Create new features\n",
    "    * Feature selection\n",
    "\n",
    "* **Handle Imbalanced Data**\n",
    "    * Oversampling\n",
    "    * Undersampling\n",
    "\n",
    "* **Handle Outliers**\n",
    "    * Remove outliers\n",
    "    * Transform outliers\n",
    "\n",
    "* **Remove Duplicates**\n",
    "    * Remove redundant or duplicate data\n",
    "\n",
    "\n",
    "And add more as needed!\n",
    "\n",
    "Please treat these as suggestions. Feel free to use your judgment for the rest."
   ]
  },
  {
   "cell_type": "code",
   "execution_count": 55,
   "id": "e6867a7c",
   "metadata": {},
   "outputs": [],
   "source": [
    "df.drop(columns=['Incident_Number','How_Long_Delayed','Boro','School_Year','Busbreakdown_ID','Run_Type'],inplace=True)"
   ]
  },
  {
   "cell_type": "code",
   "execution_count": 56,
   "id": "6bc1f8ad",
   "metadata": {},
   "outputs": [
    {
     "data": {
      "text/plain": [
       "Bus_No                               0\n",
       "Route_Number                        88\n",
       "Reason                             102\n",
       "Schools_Serviced                     0\n",
       "Occurred_On                          0\n",
       "Created_On                           0\n",
       "Bus_Company_Name                     0\n",
       "Number_Of_Students_On_The_Bus        0\n",
       "Has_Contractor_Notified_Schools      0\n",
       "Has_Contractor_Notified_Parents      0\n",
       "Have_You_Alerted_OPT                 0\n",
       "Informed_On                          0\n",
       "Last_Updated_On                      0\n",
       "Breakdown_or_Running_Late            0\n",
       "School_Age_or_PreK                   0\n",
       "dtype: int64"
      ]
     },
     "execution_count": 56,
     "metadata": {},
     "output_type": "execute_result"
    }
   ],
   "source": [
    "df.isnull().sum()"
   ]
  },
  {
   "cell_type": "code",
   "execution_count": 57,
   "id": "64736b2e",
   "metadata": {},
   "outputs": [],
   "source": [
    "df['Reason'] = df['Reason'].fillna(df['Reason'].mode()[0])\n",
    "df['Route_Number'] = df['Route_Number'].fillna(df['Route_Number'].mode()[0])"
   ]
  },
  {
   "cell_type": "code",
   "execution_count": 58,
   "id": "04bf9aba",
   "metadata": {},
   "outputs": [
    {
     "data": {
      "text/plain": [
       "Breakdown_or_Running_Late\n",
       "Running Late    130857\n",
       "Breakdown        17115\n",
       "Name: count, dtype: int64"
      ]
     },
     "execution_count": 58,
     "metadata": {},
     "output_type": "execute_result"
    }
   ],
   "source": [
    "df['Breakdown_or_Running_Late'].value_counts()"
   ]
  },
  {
   "cell_type": "code",
   "execution_count": 63,
   "id": "9c4e95d4",
   "metadata": {},
   "outputs": [],
   "source": [
    "from sklearn.preprocessing import LabelEncoder\n",
    "LE = LabelEncoder()\n",
    "df['Breakdown_or_Running_Late'] = LE.fit_transform(df['Breakdown_or_Running_Late'])"
   ]
  },
  {
   "cell_type": "code",
   "execution_count": 64,
   "id": "0e361abd",
   "metadata": {},
   "outputs": [
    {
     "data": {
      "text/html": [
       "<div>\n",
       "<style scoped>\n",
       "    .dataframe tbody tr th:only-of-type {\n",
       "        vertical-align: middle;\n",
       "    }\n",
       "\n",
       "    .dataframe tbody tr th {\n",
       "        vertical-align: top;\n",
       "    }\n",
       "\n",
       "    .dataframe thead th {\n",
       "        text-align: right;\n",
       "    }\n",
       "</style>\n",
       "<table border=\"1\" class=\"dataframe\">\n",
       "  <thead>\n",
       "    <tr style=\"text-align: right;\">\n",
       "      <th></th>\n",
       "      <th>Bus_No</th>\n",
       "      <th>Route_Number</th>\n",
       "      <th>Reason</th>\n",
       "      <th>Schools_Serviced</th>\n",
       "      <th>Occurred_On</th>\n",
       "      <th>Created_On</th>\n",
       "      <th>Bus_Company_Name</th>\n",
       "      <th>Number_Of_Students_On_The_Bus</th>\n",
       "      <th>Has_Contractor_Notified_Schools</th>\n",
       "      <th>Has_Contractor_Notified_Parents</th>\n",
       "      <th>Have_You_Alerted_OPT</th>\n",
       "      <th>Informed_On</th>\n",
       "      <th>Last_Updated_On</th>\n",
       "      <th>Breakdown_or_Running_Late</th>\n",
       "      <th>School_Age_or_PreK</th>\n",
       "    </tr>\n",
       "  </thead>\n",
       "  <tbody>\n",
       "    <tr>\n",
       "      <th>35402</th>\n",
       "      <td>18</td>\n",
       "      <td>W681</td>\n",
       "      <td>Other</td>\n",
       "      <td>75955</td>\n",
       "      <td>03/11/2016 07:29:00 AM</td>\n",
       "      <td>03/11/2016 07:29:00 AM</td>\n",
       "      <td>MAR-CAN TRANSPORT CO. INC</td>\n",
       "      <td>6</td>\n",
       "      <td>No</td>\n",
       "      <td>No</td>\n",
       "      <td>No</td>\n",
       "      <td>03/11/2016 07:29:00 AM</td>\n",
       "      <td>03/11/2016 07:29:24 AM</td>\n",
       "      <td>1</td>\n",
       "      <td>School-Age</td>\n",
       "    </tr>\n",
       "    <tr>\n",
       "      <th>63804</th>\n",
       "      <td>8000</td>\n",
       "      <td>R005</td>\n",
       "      <td>Heavy Traffic</td>\n",
       "      <td>31005</td>\n",
       "      <td>09/15/2016 07:52:00 AM</td>\n",
       "      <td>09/15/2016 07:53:00 AM</td>\n",
       "      <td>PIONEER TRANSPORTATION CO</td>\n",
       "      <td>0</td>\n",
       "      <td>Yes</td>\n",
       "      <td>No</td>\n",
       "      <td>No</td>\n",
       "      <td>09/15/2016 07:53:00 AM</td>\n",
       "      <td>09/15/2016 07:53:44 AM</td>\n",
       "      <td>1</td>\n",
       "      <td>School-Age</td>\n",
       "    </tr>\n",
       "    <tr>\n",
       "      <th>78457</th>\n",
       "      <td>2217</td>\n",
       "      <td>K650</td>\n",
       "      <td>Won`t Start</td>\n",
       "      <td>19036</td>\n",
       "      <td>11/10/2016 03:21:00 PM</td>\n",
       "      <td>11/10/2016 03:29:00 PM</td>\n",
       "      <td>RELIANT TRANS, INC. (B232</td>\n",
       "      <td>0</td>\n",
       "      <td>Yes</td>\n",
       "      <td>Yes</td>\n",
       "      <td>Yes</td>\n",
       "      <td>11/10/2016 03:29:00 PM</td>\n",
       "      <td>11/10/2016 03:29:06 PM</td>\n",
       "      <td>1</td>\n",
       "      <td>School-Age</td>\n",
       "    </tr>\n",
       "    <tr>\n",
       "      <th>36267</th>\n",
       "      <td>90</td>\n",
       "      <td>W782</td>\n",
       "      <td>Flat Tire</td>\n",
       "      <td>75908</td>\n",
       "      <td>03/16/2016 06:54:00 AM</td>\n",
       "      <td>03/16/2016 06:55:00 AM</td>\n",
       "      <td>MAR-CAN TRANSPORT CO. INC</td>\n",
       "      <td>0</td>\n",
       "      <td>No</td>\n",
       "      <td>No</td>\n",
       "      <td>No</td>\n",
       "      <td>03/16/2016 06:55:00 AM</td>\n",
       "      <td>03/16/2016 06:55:41 AM</td>\n",
       "      <td>0</td>\n",
       "      <td>School-Age</td>\n",
       "    </tr>\n",
       "    <tr>\n",
       "      <th>74181</th>\n",
       "      <td>NI632</td>\n",
       "      <td>K016</td>\n",
       "      <td>Heavy Traffic</td>\n",
       "      <td>14435</td>\n",
       "      <td>10/25/2016 02:40:00 PM</td>\n",
       "      <td>10/25/2016 02:46:00 PM</td>\n",
       "      <td>NEW DAWN TRANSIT, LLC (B2</td>\n",
       "      <td>0</td>\n",
       "      <td>No</td>\n",
       "      <td>No</td>\n",
       "      <td>No</td>\n",
       "      <td>10/25/2016 02:46:00 PM</td>\n",
       "      <td>10/25/2016 02:46:32 PM</td>\n",
       "      <td>1</td>\n",
       "      <td>School-Age</td>\n",
       "    </tr>\n",
       "    <tr>\n",
       "      <th>118550</th>\n",
       "      <td>08429</td>\n",
       "      <td>X837</td>\n",
       "      <td>Mechanical Problem</td>\n",
       "      <td>12450</td>\n",
       "      <td>04/19/2017 06:40:00 AM</td>\n",
       "      <td>04/19/2017 06:49:00 AM</td>\n",
       "      <td>HOYT TRANSPORTATION CORP.</td>\n",
       "      <td>0</td>\n",
       "      <td>Yes</td>\n",
       "      <td>Yes</td>\n",
       "      <td>No</td>\n",
       "      <td>04/19/2017 06:49:00 AM</td>\n",
       "      <td>04/19/2017 06:49:24 AM</td>\n",
       "      <td>0</td>\n",
       "      <td>School-Age</td>\n",
       "    </tr>\n",
       "    <tr>\n",
       "      <th>15087</th>\n",
       "      <td>594</td>\n",
       "      <td>L986</td>\n",
       "      <td>Other</td>\n",
       "      <td>20201</td>\n",
       "      <td>12/07/2015 07:16:00 AM</td>\n",
       "      <td>12/07/2015 07:20:00 AM</td>\n",
       "      <td>HAPPY CHILD TRANS LLC (B2</td>\n",
       "      <td>2</td>\n",
       "      <td>Yes</td>\n",
       "      <td>Yes</td>\n",
       "      <td>No</td>\n",
       "      <td>12/07/2015 07:20:00 AM</td>\n",
       "      <td>12/07/2015 07:20:16 AM</td>\n",
       "      <td>1</td>\n",
       "      <td>School-Age</td>\n",
       "    </tr>\n",
       "    <tr>\n",
       "      <th>145872</th>\n",
       "      <td>1703</td>\n",
       "      <td>K8331</td>\n",
       "      <td>Heavy Traffic</td>\n",
       "      <td>14071</td>\n",
       "      <td>03/20/2017 07:20:00 AM</td>\n",
       "      <td>03/20/2017 07:22:00 AM</td>\n",
       "      <td>ALLIED TRANSIT CORP.</td>\n",
       "      <td>1</td>\n",
       "      <td>Yes</td>\n",
       "      <td>Yes</td>\n",
       "      <td>No</td>\n",
       "      <td>03/20/2017 07:22:00 AM</td>\n",
       "      <td>03/20/2017 07:22:49 AM</td>\n",
       "      <td>1</td>\n",
       "      <td>School-Age</td>\n",
       "    </tr>\n",
       "    <tr>\n",
       "      <th>40469</th>\n",
       "      <td>1455</td>\n",
       "      <td>M619</td>\n",
       "      <td>Heavy Traffic</td>\n",
       "      <td>01400</td>\n",
       "      <td>04/07/2016 06:16:00 AM</td>\n",
       "      <td>04/07/2016 06:17:00 AM</td>\n",
       "      <td>LEESEL TRANSP CORP (B2192</td>\n",
       "      <td>1</td>\n",
       "      <td>Yes</td>\n",
       "      <td>Yes</td>\n",
       "      <td>No</td>\n",
       "      <td>04/07/2016 06:17:00 AM</td>\n",
       "      <td>04/07/2016 06:17:48 AM</td>\n",
       "      <td>1</td>\n",
       "      <td>School-Age</td>\n",
       "    </tr>\n",
       "    <tr>\n",
       "      <th>24750</th>\n",
       "      <td>1005</td>\n",
       "      <td>X2139</td>\n",
       "      <td>Weather Conditions</td>\n",
       "      <td>07256</td>\n",
       "      <td>01/25/2016 08:03:00 AM</td>\n",
       "      <td>01/25/2016 08:09:00 AM</td>\n",
       "      <td>PIONEER TRANSPORTATION CO</td>\n",
       "      <td>2</td>\n",
       "      <td>Yes</td>\n",
       "      <td>No</td>\n",
       "      <td>No</td>\n",
       "      <td>01/25/2016 08:09:00 AM</td>\n",
       "      <td>01/25/2016 08:09:29 AM</td>\n",
       "      <td>1</td>\n",
       "      <td>School-Age</td>\n",
       "    </tr>\n",
       "  </tbody>\n",
       "</table>\n",
       "</div>"
      ],
      "text/plain": [
       "       Bus_No Route_Number  ... Breakdown_or_Running_Late School_Age_or_PreK\n",
       "35402      18         W681  ...                         1         School-Age\n",
       "63804    8000         R005  ...                         1         School-Age\n",
       "78457    2217         K650  ...                         1         School-Age\n",
       "36267      90         W782  ...                         0         School-Age\n",
       "74181   NI632         K016  ...                         1         School-Age\n",
       "118550  08429         X837  ...                         0         School-Age\n",
       "15087     594         L986  ...                         1         School-Age\n",
       "145872   1703        K8331  ...                         1         School-Age\n",
       "40469    1455         M619  ...                         1         School-Age\n",
       "24750    1005        X2139  ...                         1         School-Age\n",
       "\n",
       "[10 rows x 15 columns]"
      ]
     },
     "execution_count": 64,
     "metadata": {},
     "output_type": "execute_result"
    }
   ],
   "source": [
    "df.sample(10)"
   ]
  },
  {
   "cell_type": "code",
   "execution_count": 66,
   "id": "5d8c1cb4",
   "metadata": {},
   "outputs": [
    {
     "data": {
      "text/plain": [
       "Reason\n",
       "Heavy Traffic                  87528\n",
       "Other                          21666\n",
       "Mechanical Problem             13908\n",
       "Won`t Start                     7277\n",
       "Flat Tire                       4585\n",
       "Weather Conditions              4527\n",
       "Late return from Field Trip     3464\n",
       "Problem Run                     2204\n",
       "Delayed by School               1446\n",
       "Accident                        1367\n",
       "Name: count, dtype: int64"
      ]
     },
     "execution_count": 66,
     "metadata": {},
     "output_type": "execute_result"
    }
   ],
   "source": [
    "df['Reason'].value_counts()"
   ]
  },
  {
   "cell_type": "code",
   "execution_count": 69,
   "id": "c913a6cf",
   "metadata": {},
   "outputs": [],
   "source": [
    "df['Reason'] = df['Reason'].replace({'Other':np.NaN})\n"
   ]
  },
  {
   "cell_type": "code",
   "execution_count": 75,
   "id": "fd86bb2f",
   "metadata": {},
   "outputs": [
    {
     "data": {
      "text/plain": [
       "Bus_No                                 0\n",
       "Route_Number                           0\n",
       "Reason                             21666\n",
       "Schools_Serviced                       0\n",
       "Occurred_On                            0\n",
       "Created_On                             0\n",
       "Bus_Company_Name                       0\n",
       "Number_Of_Students_On_The_Bus          0\n",
       "Has_Contractor_Notified_Schools        0\n",
       "Has_Contractor_Notified_Parents        0\n",
       "Have_You_Alerted_OPT                   0\n",
       "Informed_On                            0\n",
       "Last_Updated_On                        0\n",
       "Breakdown_or_Running_Late              0\n",
       "School_Age_or_PreK                     0\n",
       "dtype: int64"
      ]
     },
     "execution_count": 75,
     "metadata": {},
     "output_type": "execute_result"
    }
   ],
   "source": [
    "df.isnull().sum()"
   ]
  },
  {
   "cell_type": "code",
   "execution_count": 70,
   "id": "5b7e651a",
   "metadata": {},
   "outputs": [
    {
     "data": {
      "text/plain": [
       "Reason\n",
       "Heavy Traffic                  87528\n",
       "Mechanical Problem             13908\n",
       "Won`t Start                     7277\n",
       "Flat Tire                       4585\n",
       "Weather Conditions              4527\n",
       "Late return from Field Trip     3464\n",
       "Problem Run                     2204\n",
       "Delayed by School               1446\n",
       "Accident                        1367\n",
       "Name: count, dtype: int64"
      ]
     },
     "execution_count": 70,
     "metadata": {},
     "output_type": "execute_result"
    }
   ],
   "source": [
    "df['Reason'].value_counts()"
   ]
  },
  {
   "cell_type": "code",
   "execution_count": 76,
   "id": "ef4aa3d8",
   "metadata": {},
   "outputs": [],
   "source": [
    "df['Reason'] = df['Reason'].fillna(df['Reason'].mode()[0])"
   ]
  },
  {
   "cell_type": "code",
   "execution_count": 77,
   "id": "5a5bfcfa",
   "metadata": {},
   "outputs": [
    {
     "data": {
      "text/plain": [
       "Reason\n",
       "Heavy Traffic                  109194\n",
       "Mechanical Problem              13908\n",
       "Won`t Start                      7277\n",
       "Flat Tire                        4585\n",
       "Weather Conditions               4527\n",
       "Late return from Field Trip      3464\n",
       "Problem Run                      2204\n",
       "Delayed by School                1446\n",
       "Accident                         1367\n",
       "Name: count, dtype: int64"
      ]
     },
     "execution_count": 77,
     "metadata": {},
     "output_type": "execute_result"
    }
   ],
   "source": [
    "df['Reason'].value_counts()"
   ]
  },
  {
   "cell_type": "code",
   "execution_count": null,
   "id": "5fddd80a",
   "metadata": {},
   "outputs": [],
   "source": []
  },
  {
   "cell_type": "code",
   "execution_count": 97,
   "id": "e947f10a",
   "metadata": {},
   "outputs": [
    {
     "ename": "ValueError",
     "evalue": "could not convert string to float: 'Heavy Traffic'",
     "output_type": "error",
     "traceback": [
      "\u001b[1;31m---------------------------------------------------------------------------\u001b[0m",
      "\u001b[1;31mValueError\u001b[0m                                Traceback (most recent call last)",
      "Cell \u001b[1;32mIn[97], line 3\u001b[0m\n\u001b[0;32m      1\u001b[0m \u001b[38;5;28;01mfrom\u001b[39;00m \u001b[38;5;21;01msklearn\u001b[39;00m\u001b[38;5;21;01m.\u001b[39;00m\u001b[38;5;21;01mpreprocessing\u001b[39;00m \u001b[38;5;28;01mimport\u001b[39;00m MinMaxScaler\n\u001b[0;32m      2\u001b[0m MMS \u001b[38;5;241m=\u001b[39m MinMaxScaler()\n\u001b[1;32m----> 3\u001b[0m df[\u001b[38;5;124m'\u001b[39m\u001b[38;5;124mReason\u001b[39m\u001b[38;5;124m'\u001b[39m] \u001b[38;5;241m=\u001b[39m MMS\u001b[38;5;241m.\u001b[39mfit_transform(df[\u001b[38;5;124m'\u001b[39m\u001b[38;5;124mReason\u001b[39m\u001b[38;5;124m'\u001b[39m])\n",
      "File \u001b[1;32mc:\\Users\\SaadL\\anaconda3\\Lib\\site-packages\\sklearn\\utils\\_set_output.py:295\u001b[0m, in \u001b[0;36m_wrap_method_output.<locals>.wrapped\u001b[1;34m(self, X, *args, **kwargs)\u001b[0m\n\u001b[0;32m    293\u001b[0m \u001b[38;5;129m@wraps\u001b[39m(f)\n\u001b[0;32m    294\u001b[0m \u001b[38;5;28;01mdef\u001b[39;00m \u001b[38;5;21mwrapped\u001b[39m(\u001b[38;5;28mself\u001b[39m, X, \u001b[38;5;241m*\u001b[39margs, \u001b[38;5;241m*\u001b[39m\u001b[38;5;241m*\u001b[39mkwargs):\n\u001b[1;32m--> 295\u001b[0m     data_to_wrap \u001b[38;5;241m=\u001b[39m f(\u001b[38;5;28mself\u001b[39m, X, \u001b[38;5;241m*\u001b[39margs, \u001b[38;5;241m*\u001b[39m\u001b[38;5;241m*\u001b[39mkwargs)\n\u001b[0;32m    296\u001b[0m     \u001b[38;5;28;01mif\u001b[39;00m \u001b[38;5;28misinstance\u001b[39m(data_to_wrap, \u001b[38;5;28mtuple\u001b[39m):\n\u001b[0;32m    297\u001b[0m         \u001b[38;5;66;03m# only wrap the first output for cross decomposition\u001b[39;00m\n\u001b[0;32m    298\u001b[0m         return_tuple \u001b[38;5;241m=\u001b[39m (\n\u001b[0;32m    299\u001b[0m             _wrap_data_with_container(method, data_to_wrap[\u001b[38;5;241m0\u001b[39m], X, \u001b[38;5;28mself\u001b[39m),\n\u001b[0;32m    300\u001b[0m             \u001b[38;5;241m*\u001b[39mdata_to_wrap[\u001b[38;5;241m1\u001b[39m:],\n\u001b[0;32m    301\u001b[0m         )\n",
      "File \u001b[1;32mc:\\Users\\SaadL\\anaconda3\\Lib\\site-packages\\sklearn\\base.py:1098\u001b[0m, in \u001b[0;36mTransformerMixin.fit_transform\u001b[1;34m(self, X, y, **fit_params)\u001b[0m\n\u001b[0;32m   1083\u001b[0m         warnings\u001b[38;5;241m.\u001b[39mwarn(\n\u001b[0;32m   1084\u001b[0m             (\n\u001b[0;32m   1085\u001b[0m                 \u001b[38;5;124mf\u001b[39m\u001b[38;5;124m\"\u001b[39m\u001b[38;5;124mThis object (\u001b[39m\u001b[38;5;132;01m{\u001b[39;00m\u001b[38;5;28mself\u001b[39m\u001b[38;5;241m.\u001b[39m\u001b[38;5;18m__class__\u001b[39m\u001b[38;5;241m.\u001b[39m\u001b[38;5;18m__name__\u001b[39m\u001b[38;5;132;01m}\u001b[39;00m\u001b[38;5;124m) has a `transform`\u001b[39m\u001b[38;5;124m\"\u001b[39m\n\u001b[1;32m   (...)\u001b[0m\n\u001b[0;32m   1093\u001b[0m             \u001b[38;5;167;01mUserWarning\u001b[39;00m,\n\u001b[0;32m   1094\u001b[0m         )\n\u001b[0;32m   1096\u001b[0m \u001b[38;5;28;01mif\u001b[39;00m y \u001b[38;5;129;01mis\u001b[39;00m \u001b[38;5;28;01mNone\u001b[39;00m:\n\u001b[0;32m   1097\u001b[0m     \u001b[38;5;66;03m# fit method of arity 1 (unsupervised transformation)\u001b[39;00m\n\u001b[1;32m-> 1098\u001b[0m     \u001b[38;5;28;01mreturn\u001b[39;00m \u001b[38;5;28mself\u001b[39m\u001b[38;5;241m.\u001b[39mfit(X, \u001b[38;5;241m*\u001b[39m\u001b[38;5;241m*\u001b[39mfit_params)\u001b[38;5;241m.\u001b[39mtransform(X)\n\u001b[0;32m   1099\u001b[0m \u001b[38;5;28;01melse\u001b[39;00m:\n\u001b[0;32m   1100\u001b[0m     \u001b[38;5;66;03m# fit method of arity 2 (supervised transformation)\u001b[39;00m\n\u001b[0;32m   1101\u001b[0m     \u001b[38;5;28;01mreturn\u001b[39;00m \u001b[38;5;28mself\u001b[39m\u001b[38;5;241m.\u001b[39mfit(X, y, \u001b[38;5;241m*\u001b[39m\u001b[38;5;241m*\u001b[39mfit_params)\u001b[38;5;241m.\u001b[39mtransform(X)\n",
      "File \u001b[1;32mc:\\Users\\SaadL\\anaconda3\\Lib\\site-packages\\sklearn\\preprocessing\\_data.py:450\u001b[0m, in \u001b[0;36mMinMaxScaler.fit\u001b[1;34m(self, X, y)\u001b[0m\n\u001b[0;32m    448\u001b[0m \u001b[38;5;66;03m# Reset internal state before fitting\u001b[39;00m\n\u001b[0;32m    449\u001b[0m \u001b[38;5;28mself\u001b[39m\u001b[38;5;241m.\u001b[39m_reset()\n\u001b[1;32m--> 450\u001b[0m \u001b[38;5;28;01mreturn\u001b[39;00m \u001b[38;5;28mself\u001b[39m\u001b[38;5;241m.\u001b[39mpartial_fit(X, y)\n",
      "File \u001b[1;32mc:\\Users\\SaadL\\anaconda3\\Lib\\site-packages\\sklearn\\base.py:1474\u001b[0m, in \u001b[0;36m_fit_context.<locals>.decorator.<locals>.wrapper\u001b[1;34m(estimator, *args, **kwargs)\u001b[0m\n\u001b[0;32m   1467\u001b[0m     estimator\u001b[38;5;241m.\u001b[39m_validate_params()\n\u001b[0;32m   1469\u001b[0m \u001b[38;5;28;01mwith\u001b[39;00m config_context(\n\u001b[0;32m   1470\u001b[0m     skip_parameter_validation\u001b[38;5;241m=\u001b[39m(\n\u001b[0;32m   1471\u001b[0m         prefer_skip_nested_validation \u001b[38;5;129;01mor\u001b[39;00m global_skip_validation\n\u001b[0;32m   1472\u001b[0m     )\n\u001b[0;32m   1473\u001b[0m ):\n\u001b[1;32m-> 1474\u001b[0m     \u001b[38;5;28;01mreturn\u001b[39;00m fit_method(estimator, \u001b[38;5;241m*\u001b[39margs, \u001b[38;5;241m*\u001b[39m\u001b[38;5;241m*\u001b[39mkwargs)\n",
      "File \u001b[1;32mc:\\Users\\SaadL\\anaconda3\\Lib\\site-packages\\sklearn\\preprocessing\\_data.py:490\u001b[0m, in \u001b[0;36mMinMaxScaler.partial_fit\u001b[1;34m(self, X, y)\u001b[0m\n\u001b[0;32m    487\u001b[0m xp, _ \u001b[38;5;241m=\u001b[39m get_namespace(X)\n\u001b[0;32m    489\u001b[0m first_pass \u001b[38;5;241m=\u001b[39m \u001b[38;5;129;01mnot\u001b[39;00m \u001b[38;5;28mhasattr\u001b[39m(\u001b[38;5;28mself\u001b[39m, \u001b[38;5;124m\"\u001b[39m\u001b[38;5;124mn_samples_seen_\u001b[39m\u001b[38;5;124m\"\u001b[39m)\n\u001b[1;32m--> 490\u001b[0m X \u001b[38;5;241m=\u001b[39m \u001b[38;5;28mself\u001b[39m\u001b[38;5;241m.\u001b[39m_validate_data(\n\u001b[0;32m    491\u001b[0m     X,\n\u001b[0;32m    492\u001b[0m     reset\u001b[38;5;241m=\u001b[39mfirst_pass,\n\u001b[0;32m    493\u001b[0m     dtype\u001b[38;5;241m=\u001b[39m_array_api\u001b[38;5;241m.\u001b[39msupported_float_dtypes(xp),\n\u001b[0;32m    494\u001b[0m     force_all_finite\u001b[38;5;241m=\u001b[39m\u001b[38;5;124m\"\u001b[39m\u001b[38;5;124mallow-nan\u001b[39m\u001b[38;5;124m\"\u001b[39m,\n\u001b[0;32m    495\u001b[0m )\n\u001b[0;32m    497\u001b[0m data_min \u001b[38;5;241m=\u001b[39m _array_api\u001b[38;5;241m.\u001b[39m_nanmin(X, axis\u001b[38;5;241m=\u001b[39m\u001b[38;5;241m0\u001b[39m)\n\u001b[0;32m    498\u001b[0m data_max \u001b[38;5;241m=\u001b[39m _array_api\u001b[38;5;241m.\u001b[39m_nanmax(X, axis\u001b[38;5;241m=\u001b[39m\u001b[38;5;241m0\u001b[39m)\n",
      "File \u001b[1;32mc:\\Users\\SaadL\\anaconda3\\Lib\\site-packages\\sklearn\\base.py:633\u001b[0m, in \u001b[0;36mBaseEstimator._validate_data\u001b[1;34m(self, X, y, reset, validate_separately, cast_to_ndarray, **check_params)\u001b[0m\n\u001b[0;32m    631\u001b[0m         out \u001b[38;5;241m=\u001b[39m X, y\n\u001b[0;32m    632\u001b[0m \u001b[38;5;28;01melif\u001b[39;00m \u001b[38;5;129;01mnot\u001b[39;00m no_val_X \u001b[38;5;129;01mand\u001b[39;00m no_val_y:\n\u001b[1;32m--> 633\u001b[0m     out \u001b[38;5;241m=\u001b[39m check_array(X, input_name\u001b[38;5;241m=\u001b[39m\u001b[38;5;124m\"\u001b[39m\u001b[38;5;124mX\u001b[39m\u001b[38;5;124m\"\u001b[39m, \u001b[38;5;241m*\u001b[39m\u001b[38;5;241m*\u001b[39mcheck_params)\n\u001b[0;32m    634\u001b[0m \u001b[38;5;28;01melif\u001b[39;00m no_val_X \u001b[38;5;129;01mand\u001b[39;00m \u001b[38;5;129;01mnot\u001b[39;00m no_val_y:\n\u001b[0;32m    635\u001b[0m     out \u001b[38;5;241m=\u001b[39m _check_y(y, \u001b[38;5;241m*\u001b[39m\u001b[38;5;241m*\u001b[39mcheck_params)\n",
      "File \u001b[1;32mc:\\Users\\SaadL\\anaconda3\\Lib\\site-packages\\sklearn\\utils\\validation.py:997\u001b[0m, in \u001b[0;36mcheck_array\u001b[1;34m(array, accept_sparse, accept_large_sparse, dtype, order, copy, force_all_finite, ensure_2d, allow_nd, ensure_min_samples, ensure_min_features, estimator, input_name)\u001b[0m\n\u001b[0;32m    995\u001b[0m         array \u001b[38;5;241m=\u001b[39m xp\u001b[38;5;241m.\u001b[39mastype(array, dtype, copy\u001b[38;5;241m=\u001b[39m\u001b[38;5;28;01mFalse\u001b[39;00m)\n\u001b[0;32m    996\u001b[0m     \u001b[38;5;28;01melse\u001b[39;00m:\n\u001b[1;32m--> 997\u001b[0m         array \u001b[38;5;241m=\u001b[39m _asarray_with_order(array, order\u001b[38;5;241m=\u001b[39morder, dtype\u001b[38;5;241m=\u001b[39mdtype, xp\u001b[38;5;241m=\u001b[39mxp)\n\u001b[0;32m    998\u001b[0m \u001b[38;5;28;01mexcept\u001b[39;00m ComplexWarning \u001b[38;5;28;01mas\u001b[39;00m complex_warning:\n\u001b[0;32m    999\u001b[0m     \u001b[38;5;28;01mraise\u001b[39;00m \u001b[38;5;167;01mValueError\u001b[39;00m(\n\u001b[0;32m   1000\u001b[0m         \u001b[38;5;124m\"\u001b[39m\u001b[38;5;124mComplex data not supported\u001b[39m\u001b[38;5;130;01m\\n\u001b[39;00m\u001b[38;5;132;01m{}\u001b[39;00m\u001b[38;5;130;01m\\n\u001b[39;00m\u001b[38;5;124m\"\u001b[39m\u001b[38;5;241m.\u001b[39mformat(array)\n\u001b[0;32m   1001\u001b[0m     ) \u001b[38;5;28;01mfrom\u001b[39;00m \u001b[38;5;21;01mcomplex_warning\u001b[39;00m\n",
      "File \u001b[1;32mc:\\Users\\SaadL\\anaconda3\\Lib\\site-packages\\sklearn\\utils\\_array_api.py:521\u001b[0m, in \u001b[0;36m_asarray_with_order\u001b[1;34m(array, dtype, order, copy, xp)\u001b[0m\n\u001b[0;32m    519\u001b[0m     array \u001b[38;5;241m=\u001b[39m numpy\u001b[38;5;241m.\u001b[39marray(array, order\u001b[38;5;241m=\u001b[39morder, dtype\u001b[38;5;241m=\u001b[39mdtype)\n\u001b[0;32m    520\u001b[0m \u001b[38;5;28;01melse\u001b[39;00m:\n\u001b[1;32m--> 521\u001b[0m     array \u001b[38;5;241m=\u001b[39m numpy\u001b[38;5;241m.\u001b[39masarray(array, order\u001b[38;5;241m=\u001b[39morder, dtype\u001b[38;5;241m=\u001b[39mdtype)\n\u001b[0;32m    523\u001b[0m \u001b[38;5;66;03m# At this point array is a NumPy ndarray. We convert it to an array\u001b[39;00m\n\u001b[0;32m    524\u001b[0m \u001b[38;5;66;03m# container that is consistent with the input's namespace.\u001b[39;00m\n\u001b[0;32m    525\u001b[0m \u001b[38;5;28;01mreturn\u001b[39;00m xp\u001b[38;5;241m.\u001b[39masarray(array)\n",
      "File \u001b[1;32mc:\\Users\\SaadL\\anaconda3\\Lib\\site-packages\\pandas\\core\\series.py:1031\u001b[0m, in \u001b[0;36mSeries.__array__\u001b[1;34m(self, dtype, copy)\u001b[0m\n\u001b[0;32m    981\u001b[0m \u001b[38;5;250m\u001b[39m\u001b[38;5;124;03m\"\"\"\u001b[39;00m\n\u001b[0;32m    982\u001b[0m \u001b[38;5;124;03mReturn the values as a NumPy array.\u001b[39;00m\n\u001b[0;32m    983\u001b[0m \n\u001b[1;32m   (...)\u001b[0m\n\u001b[0;32m   1028\u001b[0m \u001b[38;5;124;03m      dtype='datetime64[ns]')\u001b[39;00m\n\u001b[0;32m   1029\u001b[0m \u001b[38;5;124;03m\"\"\"\u001b[39;00m\n\u001b[0;32m   1030\u001b[0m values \u001b[38;5;241m=\u001b[39m \u001b[38;5;28mself\u001b[39m\u001b[38;5;241m.\u001b[39m_values\n\u001b[1;32m-> 1031\u001b[0m arr \u001b[38;5;241m=\u001b[39m np\u001b[38;5;241m.\u001b[39masarray(values, dtype\u001b[38;5;241m=\u001b[39mdtype)\n\u001b[0;32m   1032\u001b[0m \u001b[38;5;28;01mif\u001b[39;00m using_copy_on_write() \u001b[38;5;129;01mand\u001b[39;00m astype_is_view(values\u001b[38;5;241m.\u001b[39mdtype, arr\u001b[38;5;241m.\u001b[39mdtype):\n\u001b[0;32m   1033\u001b[0m     arr \u001b[38;5;241m=\u001b[39m arr\u001b[38;5;241m.\u001b[39mview()\n",
      "\u001b[1;31mValueError\u001b[0m: could not convert string to float: 'Heavy Traffic'"
     ]
    }
   ],
   "source": [
    "from sklearn.preprocessing import MinMaxScaler\n",
    "MMS = MinMaxScaler()\n",
    "df['Reason'] = MMS.fit_transform(df['Reason'])"
   ]
  },
  {
   "cell_type": "code",
   "execution_count": 41,
   "id": "00512323",
   "metadata": {},
   "outputs": [
    {
     "data": {
      "text/plain": [
       "36"
      ]
     },
     "execution_count": 41,
     "metadata": {},
     "output_type": "execute_result"
    }
   ],
   "source": [
    "df.duplicated().sum()"
   ]
  },
  {
   "cell_type": "code",
   "execution_count": 44,
   "id": "df9796cd",
   "metadata": {},
   "outputs": [],
   "source": [
    "df.drop_duplicates(inplace=True)"
   ]
  },
  {
   "cell_type": "code",
   "execution_count": 45,
   "id": "c65288db",
   "metadata": {},
   "outputs": [
    {
     "data": {
      "text/plain": [
       "0"
      ]
     },
     "execution_count": 45,
     "metadata": {},
     "output_type": "execute_result"
    }
   ],
   "source": [
    "df.duplicated().sum()"
   ]
  },
  {
   "cell_type": "markdown",
   "id": "bc887660",
   "metadata": {},
   "source": [
    "## Split the Dataset\n",
    "Next, split the dataset into training, validation, and testing sets."
   ]
  },
  {
   "cell_type": "code",
   "execution_count": 82,
   "id": "e6f129f3",
   "metadata": {},
   "outputs": [],
   "source": [
    "X = df.drop('Breakdown_or_Running_Late', axis=1)\n",
    "y = df['Breakdown_or_Running_Late']"
   ]
  },
  {
   "cell_type": "code",
   "execution_count": 85,
   "id": "fa5bbfd5",
   "metadata": {},
   "outputs": [],
   "source": [
    "from sklearn.model_selection import train_test_split\n",
    "X_train, X_test, y_train, y_test = train_test_split(X, y, test_size=0.2, random_state=42)"
   ]
  },
  {
   "cell_type": "code",
   "execution_count": 96,
   "id": "199dd4f6",
   "metadata": {},
   "outputs": [
    {
     "data": {
      "text/html": [
       "<div>\n",
       "<style scoped>\n",
       "    .dataframe tbody tr th:only-of-type {\n",
       "        vertical-align: middle;\n",
       "    }\n",
       "\n",
       "    .dataframe tbody tr th {\n",
       "        vertical-align: top;\n",
       "    }\n",
       "\n",
       "    .dataframe thead th {\n",
       "        text-align: right;\n",
       "    }\n",
       "</style>\n",
       "<table border=\"1\" class=\"dataframe\">\n",
       "  <thead>\n",
       "    <tr style=\"text-align: right;\">\n",
       "      <th></th>\n",
       "      <th>Bus_No</th>\n",
       "      <th>Route_Number</th>\n",
       "      <th>Reason</th>\n",
       "      <th>Schools_Serviced</th>\n",
       "      <th>Occurred_On</th>\n",
       "      <th>Created_On</th>\n",
       "      <th>Bus_Company_Name</th>\n",
       "      <th>Number_Of_Students_On_The_Bus</th>\n",
       "      <th>Has_Contractor_Notified_Schools</th>\n",
       "      <th>Has_Contractor_Notified_Parents</th>\n",
       "      <th>Have_You_Alerted_OPT</th>\n",
       "      <th>Informed_On</th>\n",
       "      <th>Last_Updated_On</th>\n",
       "      <th>School_Age_or_PreK</th>\n",
       "    </tr>\n",
       "  </thead>\n",
       "  <tbody>\n",
       "    <tr>\n",
       "      <th>125215</th>\n",
       "      <td>1604</td>\n",
       "      <td>M486</td>\n",
       "      <td>Heavy Traffic</td>\n",
       "      <td>01063</td>\n",
       "      <td>05/09/2017 05:50:00 AM</td>\n",
       "      <td>05/09/2017 05:51:00 AM</td>\n",
       "      <td>LEESEL TRANSP CORP (B2192</td>\n",
       "      <td>0</td>\n",
       "      <td>Yes</td>\n",
       "      <td>Yes</td>\n",
       "      <td>No</td>\n",
       "      <td>05/09/2017 05:51:00 AM</td>\n",
       "      <td>05/09/2017 05:51:43 AM</td>\n",
       "      <td>School-Age</td>\n",
       "    </tr>\n",
       "    <tr>\n",
       "      <th>100551</th>\n",
       "      <td>43245</td>\n",
       "      <td>N483</td>\n",
       "      <td>Mechanical Problem</td>\n",
       "      <td>75907</td>\n",
       "      <td>02/07/2017 07:15:00 AM</td>\n",
       "      <td>02/07/2017 07:21:00 AM</td>\n",
       "      <td>BORO TRANSIT, INC.</td>\n",
       "      <td>0</td>\n",
       "      <td>Yes</td>\n",
       "      <td>Yes</td>\n",
       "      <td>Yes</td>\n",
       "      <td>02/07/2017 07:21:00 AM</td>\n",
       "      <td>02/07/2017 07:21:59 AM</td>\n",
       "      <td>School-Age</td>\n",
       "    </tr>\n",
       "    <tr>\n",
       "      <th>99302</th>\n",
       "      <td>5108</td>\n",
       "      <td>B0909B</td>\n",
       "      <td>Heavy Traffic</td>\n",
       "      <td>C262</td>\n",
       "      <td>02/01/2017 09:00:00 AM</td>\n",
       "      <td>02/01/2017 09:07:00 AM</td>\n",
       "      <td>L &amp; M BUS CORP.</td>\n",
       "      <td>4</td>\n",
       "      <td>Yes</td>\n",
       "      <td>Yes</td>\n",
       "      <td>Yes</td>\n",
       "      <td>02/01/2017 09:07:00 AM</td>\n",
       "      <td>02/01/2017 09:44:33 AM</td>\n",
       "      <td>Pre-K</td>\n",
       "    </tr>\n",
       "    <tr>\n",
       "      <th>114617</th>\n",
       "      <td>8955D</td>\n",
       "      <td>P515</td>\n",
       "      <td>Won`t Start</td>\n",
       "      <td>26440</td>\n",
       "      <td>03/29/2017 02:56:00 PM</td>\n",
       "      <td>03/29/2017 02:57:00 PM</td>\n",
       "      <td>LOGAN BUS COMPANY INC.</td>\n",
       "      <td>0</td>\n",
       "      <td>Yes</td>\n",
       "      <td>Yes</td>\n",
       "      <td>No</td>\n",
       "      <td>03/29/2017 02:57:00 PM</td>\n",
       "      <td>03/29/2017 02:57:17 PM</td>\n",
       "      <td>School-Age</td>\n",
       "    </tr>\n",
       "    <tr>\n",
       "      <th>68770</th>\n",
       "      <td>1222</td>\n",
       "      <td>Q402</td>\n",
       "      <td>Heavy Traffic</td>\n",
       "      <td>30008</td>\n",
       "      <td>09/29/2016 08:10:00 AM</td>\n",
       "      <td>09/29/2016 08:13:00 AM</td>\n",
       "      <td>HOYT TRANSPORTATION CORP.</td>\n",
       "      <td>7</td>\n",
       "      <td>Yes</td>\n",
       "      <td>Yes</td>\n",
       "      <td>No</td>\n",
       "      <td>09/29/2016 08:13:00 AM</td>\n",
       "      <td>09/29/2016 08:13:48 AM</td>\n",
       "      <td>School-Age</td>\n",
       "    </tr>\n",
       "    <tr>\n",
       "      <th>...</th>\n",
       "      <td>...</td>\n",
       "      <td>...</td>\n",
       "      <td>...</td>\n",
       "      <td>...</td>\n",
       "      <td>...</td>\n",
       "      <td>...</td>\n",
       "      <td>...</td>\n",
       "      <td>...</td>\n",
       "      <td>...</td>\n",
       "      <td>...</td>\n",
       "      <td>...</td>\n",
       "      <td>...</td>\n",
       "      <td>...</td>\n",
       "      <td>...</td>\n",
       "    </tr>\n",
       "    <tr>\n",
       "      <th>119879</th>\n",
       "      <td>39</td>\n",
       "      <td>M260</td>\n",
       "      <td>Heavy Traffic</td>\n",
       "      <td>02909</td>\n",
       "      <td>04/21/2017 01:57:00 PM</td>\n",
       "      <td>04/21/2017 02:02:00 PM</td>\n",
       "      <td>CAREFUL BUS</td>\n",
       "      <td>0</td>\n",
       "      <td>Yes</td>\n",
       "      <td>No</td>\n",
       "      <td>No</td>\n",
       "      <td>04/21/2017 02:02:00 PM</td>\n",
       "      <td>04/21/2017 02:02:33 PM</td>\n",
       "      <td>School-Age</td>\n",
       "    </tr>\n",
       "    <tr>\n",
       "      <th>103694</th>\n",
       "      <td>2590</td>\n",
       "      <td>X9261</td>\n",
       "      <td>Late return from Field Trip</td>\n",
       "      <td>11003</td>\n",
       "      <td>02/16/2017 02:47:00 PM</td>\n",
       "      <td>02/16/2017 02:56:00 PM</td>\n",
       "      <td>BOBBY`S BUS CO. INC.</td>\n",
       "      <td>0</td>\n",
       "      <td>No</td>\n",
       "      <td>Yes</td>\n",
       "      <td>No</td>\n",
       "      <td>02/16/2017 02:56:00 PM</td>\n",
       "      <td>02/16/2017 02:57:23 PM</td>\n",
       "      <td>School-Age</td>\n",
       "    </tr>\n",
       "    <tr>\n",
       "      <th>131932</th>\n",
       "      <td>1222</td>\n",
       "      <td>Q2974</td>\n",
       "      <td>Mechanical Problem</td>\n",
       "      <td>29095</td>\n",
       "      <td>05/30/2017 06:33:00 AM</td>\n",
       "      <td>05/30/2017 06:33:00 AM</td>\n",
       "      <td>QUALITY TRANSPORTATION CO</td>\n",
       "      <td>0</td>\n",
       "      <td>No</td>\n",
       "      <td>No</td>\n",
       "      <td>No</td>\n",
       "      <td>05/30/2017 06:33:00 AM</td>\n",
       "      <td>05/30/2017 07:03:59 AM</td>\n",
       "      <td>School-Age</td>\n",
       "    </tr>\n",
       "    <tr>\n",
       "      <th>146867</th>\n",
       "      <td>48192</td>\n",
       "      <td>Q471</td>\n",
       "      <td>Heavy Traffic</td>\n",
       "      <td>27351</td>\n",
       "      <td>06/01/2017 07:56:00 AM</td>\n",
       "      <td>06/01/2017 08:06:00 AM</td>\n",
       "      <td>BORO TRANSIT, INC.</td>\n",
       "      <td>0</td>\n",
       "      <td>Yes</td>\n",
       "      <td>Yes</td>\n",
       "      <td>Yes</td>\n",
       "      <td>06/01/2017 08:06:00 AM</td>\n",
       "      <td>06/01/2017 08:06:38 AM</td>\n",
       "      <td>School-Age</td>\n",
       "    </tr>\n",
       "    <tr>\n",
       "      <th>121958</th>\n",
       "      <td>336</td>\n",
       "      <td>5</td>\n",
       "      <td>Heavy Traffic</td>\n",
       "      <td>C037</td>\n",
       "      <td>04/04/2017 08:02:00 AM</td>\n",
       "      <td>04/04/2017 08:05:00 AM</td>\n",
       "      <td>G.V.C., LTD.</td>\n",
       "      <td>4</td>\n",
       "      <td>Yes</td>\n",
       "      <td>Yes</td>\n",
       "      <td>No</td>\n",
       "      <td>04/04/2017 08:05:00 AM</td>\n",
       "      <td>04/04/2017 08:05:13 AM</td>\n",
       "      <td>Pre-K</td>\n",
       "    </tr>\n",
       "  </tbody>\n",
       "</table>\n",
       "<p>118377 rows × 14 columns</p>\n",
       "</div>"
      ],
      "text/plain": [
       "       Bus_No Route_Number  ...         Last_Updated_On School_Age_or_PreK\n",
       "125215   1604         M486  ...  05/09/2017 05:51:43 AM         School-Age\n",
       "100551  43245         N483  ...  02/07/2017 07:21:59 AM         School-Age\n",
       "99302    5108       B0909B  ...  02/01/2017 09:44:33 AM              Pre-K\n",
       "114617  8955D         P515  ...  03/29/2017 02:57:17 PM         School-Age\n",
       "68770    1222         Q402  ...  09/29/2016 08:13:48 AM         School-Age\n",
       "...       ...          ...  ...                     ...                ...\n",
       "119879     39         M260  ...  04/21/2017 02:02:33 PM         School-Age\n",
       "103694   2590        X9261  ...  02/16/2017 02:57:23 PM         School-Age\n",
       "131932   1222        Q2974  ...  05/30/2017 07:03:59 AM         School-Age\n",
       "146867  48192         Q471  ...  06/01/2017 08:06:38 AM         School-Age\n",
       "121958    336            5  ...  04/04/2017 08:05:13 AM              Pre-K\n",
       "\n",
       "[118377 rows x 14 columns]"
      ]
     },
     "execution_count": 96,
     "metadata": {},
     "output_type": "execute_result"
    }
   ],
   "source": [
    "X_train"
   ]
  },
  {
   "cell_type": "markdown",
   "id": "7119b7d7",
   "metadata": {},
   "source": [
    "## Building the ANN Model\n",
    "In this section, define the architecture of the ANN by specifying the number of layers, neurons, and activation functions."
   ]
  },
  {
   "cell_type": "code",
   "execution_count": 87,
   "id": "d804703e",
   "metadata": {},
   "outputs": [],
   "source": [
    "from tensorflow.keras.models import Sequential\n",
    "from tensorflow.keras.layers import Dense\n",
    "from tensorflow.keras.optimizers import Adam\n",
    "from sklearn.metrics import accuracy_score"
   ]
  },
  {
   "cell_type": "code",
   "execution_count": 89,
   "id": "c8223275",
   "metadata": {},
   "outputs": [],
   "source": [
    "model = Sequential()"
   ]
  },
  {
   "cell_type": "code",
   "execution_count": 90,
   "id": "8532b3b9",
   "metadata": {},
   "outputs": [
    {
     "name": "stderr",
     "output_type": "stream",
     "text": [
      "c:\\Users\\SaadL\\anaconda3\\Lib\\site-packages\\keras\\src\\layers\\core\\dense.py:87: UserWarning: Do not pass an `input_shape`/`input_dim` argument to a layer. When using Sequential models, prefer using an `Input(shape)` object as the first layer in the model instead.\n",
      "  super().__init__(activity_regularizer=activity_regularizer, **kwargs)\n"
     ]
    },
    {
     "data": {
      "text/plain": [
       "[None, None, None]"
      ]
     },
     "execution_count": 90,
     "metadata": {},
     "output_type": "execute_result"
    }
   ],
   "source": [
    "[\n",
    "    model.add(Dense(units=16, input_dim=X_train.shape[1], kernel_initializer='uniform', activation='relu')),\n",
    "    model.add(Dense(units=16, activation='relu')),\n",
    "    model.add(Dense(units=1, activation='sigmoid'))\n",
    "\n",
    "]"
   ]
  },
  {
   "cell_type": "markdown",
   "id": "ac5e52e1",
   "metadata": {},
   "source": [
    "## Compile the Model\n",
    "Compile the ANN model by defining the optimizer, loss function, and evaluation metrics."
   ]
  },
  {
   "cell_type": "code",
   "execution_count": 98,
   "id": "ab363be3",
   "metadata": {},
   "outputs": [
    {
     "data": {
      "text/html": [
       "<pre style=\"white-space:pre;overflow-x:auto;line-height:normal;font-family:Menlo,'DejaVu Sans Mono',consolas,'Courier New',monospace\"><span style=\"font-weight: bold\">Model: \"sequential\"</span>\n",
       "</pre>\n"
      ],
      "text/plain": [
       "\u001b[1mModel: \"sequential\"\u001b[0m\n"
      ]
     },
     "metadata": {},
     "output_type": "display_data"
    },
    {
     "data": {
      "text/html": [
       "<pre style=\"white-space:pre;overflow-x:auto;line-height:normal;font-family:Menlo,'DejaVu Sans Mono',consolas,'Courier New',monospace\">┏━━━━━━━━━━━━━━━━━━━━━━━━━━━━━━━━━┳━━━━━━━━━━━━━━━━━━━━━━━━┳━━━━━━━━━━━━━━━┓\n",
       "┃<span style=\"font-weight: bold\"> Layer (type)                    </span>┃<span style=\"font-weight: bold\"> Output Shape           </span>┃<span style=\"font-weight: bold\">       Param # </span>┃\n",
       "┡━━━━━━━━━━━━━━━━━━━━━━━━━━━━━━━━━╇━━━━━━━━━━━━━━━━━━━━━━━━╇━━━━━━━━━━━━━━━┩\n",
       "│ dense (<span style=\"color: #0087ff; text-decoration-color: #0087ff\">Dense</span>)                   │ (<span style=\"color: #00d7ff; text-decoration-color: #00d7ff\">None</span>, <span style=\"color: #00af00; text-decoration-color: #00af00\">16</span>)             │           <span style=\"color: #00af00; text-decoration-color: #00af00\">240</span> │\n",
       "├─────────────────────────────────┼────────────────────────┼───────────────┤\n",
       "│ dense_1 (<span style=\"color: #0087ff; text-decoration-color: #0087ff\">Dense</span>)                 │ (<span style=\"color: #00d7ff; text-decoration-color: #00d7ff\">None</span>, <span style=\"color: #00af00; text-decoration-color: #00af00\">16</span>)             │           <span style=\"color: #00af00; text-decoration-color: #00af00\">272</span> │\n",
       "├─────────────────────────────────┼────────────────────────┼───────────────┤\n",
       "│ dense_2 (<span style=\"color: #0087ff; text-decoration-color: #0087ff\">Dense</span>)                 │ (<span style=\"color: #00d7ff; text-decoration-color: #00d7ff\">None</span>, <span style=\"color: #00af00; text-decoration-color: #00af00\">1</span>)              │            <span style=\"color: #00af00; text-decoration-color: #00af00\">17</span> │\n",
       "└─────────────────────────────────┴────────────────────────┴───────────────┘\n",
       "</pre>\n"
      ],
      "text/plain": [
       "┏━━━━━━━━━━━━━━━━━━━━━━━━━━━━━━━━━┳━━━━━━━━━━━━━━━━━━━━━━━━┳━━━━━━━━━━━━━━━┓\n",
       "┃\u001b[1m \u001b[0m\u001b[1mLayer (type)                   \u001b[0m\u001b[1m \u001b[0m┃\u001b[1m \u001b[0m\u001b[1mOutput Shape          \u001b[0m\u001b[1m \u001b[0m┃\u001b[1m \u001b[0m\u001b[1m      Param #\u001b[0m\u001b[1m \u001b[0m┃\n",
       "┡━━━━━━━━━━━━━━━━━━━━━━━━━━━━━━━━━╇━━━━━━━━━━━━━━━━━━━━━━━━╇━━━━━━━━━━━━━━━┩\n",
       "│ dense (\u001b[38;5;33mDense\u001b[0m)                   │ (\u001b[38;5;45mNone\u001b[0m, \u001b[38;5;34m16\u001b[0m)             │           \u001b[38;5;34m240\u001b[0m │\n",
       "├─────────────────────────────────┼────────────────────────┼───────────────┤\n",
       "│ dense_1 (\u001b[38;5;33mDense\u001b[0m)                 │ (\u001b[38;5;45mNone\u001b[0m, \u001b[38;5;34m16\u001b[0m)             │           \u001b[38;5;34m272\u001b[0m │\n",
       "├─────────────────────────────────┼────────────────────────┼───────────────┤\n",
       "│ dense_2 (\u001b[38;5;33mDense\u001b[0m)                 │ (\u001b[38;5;45mNone\u001b[0m, \u001b[38;5;34m1\u001b[0m)              │            \u001b[38;5;34m17\u001b[0m │\n",
       "└─────────────────────────────────┴────────────────────────┴───────────────┘\n"
      ]
     },
     "metadata": {},
     "output_type": "display_data"
    },
    {
     "data": {
      "text/html": [
       "<pre style=\"white-space:pre;overflow-x:auto;line-height:normal;font-family:Menlo,'DejaVu Sans Mono',consolas,'Courier New',monospace\"><span style=\"font-weight: bold\"> Total params: </span><span style=\"color: #00af00; text-decoration-color: #00af00\">529</span> (2.07 KB)\n",
       "</pre>\n"
      ],
      "text/plain": [
       "\u001b[1m Total params: \u001b[0m\u001b[38;5;34m529\u001b[0m (2.07 KB)\n"
      ]
     },
     "metadata": {},
     "output_type": "display_data"
    },
    {
     "data": {
      "text/html": [
       "<pre style=\"white-space:pre;overflow-x:auto;line-height:normal;font-family:Menlo,'DejaVu Sans Mono',consolas,'Courier New',monospace\"><span style=\"font-weight: bold\"> Trainable params: </span><span style=\"color: #00af00; text-decoration-color: #00af00\">529</span> (2.07 KB)\n",
       "</pre>\n"
      ],
      "text/plain": [
       "\u001b[1m Trainable params: \u001b[0m\u001b[38;5;34m529\u001b[0m (2.07 KB)\n"
      ]
     },
     "metadata": {},
     "output_type": "display_data"
    },
    {
     "data": {
      "text/html": [
       "<pre style=\"white-space:pre;overflow-x:auto;line-height:normal;font-family:Menlo,'DejaVu Sans Mono',consolas,'Courier New',monospace\"><span style=\"font-weight: bold\"> Non-trainable params: </span><span style=\"color: #00af00; text-decoration-color: #00af00\">0</span> (0.00 B)\n",
       "</pre>\n"
      ],
      "text/plain": [
       "\u001b[1m Non-trainable params: \u001b[0m\u001b[38;5;34m0\u001b[0m (0.00 B)\n"
      ]
     },
     "metadata": {},
     "output_type": "display_data"
    }
   ],
   "source": [
    "model.compile(optimizer='adam', loss='binary_crossentropy', metrics=['accuracy'])\n",
    "model.summary()"
   ]
  },
  {
   "cell_type": "markdown",
   "id": "e9a72223",
   "metadata": {},
   "source": [
    "## Training the Model\n",
    "Train the ANN model using the training data."
   ]
  },
  {
   "cell_type": "code",
   "execution_count": 95,
   "id": "6660fc04",
   "metadata": {},
   "outputs": [
    {
     "ename": "AttributeError",
     "evalue": "'DataFrame' object has no attribute 'dtype'",
     "output_type": "error",
     "traceback": [
      "\u001b[1;31m---------------------------------------------------------------------------\u001b[0m",
      "\u001b[1;31mAttributeError\u001b[0m                            Traceback (most recent call last)",
      "\u001b[1;32m~\\AppData\\Local\\Temp\\ipykernel_2148\\2651548122.py\u001b[0m in \u001b[0;36m?\u001b[1;34m()\u001b[0m\n\u001b[1;32m----> 1\u001b[1;33m \u001b[0mprint\u001b[0m\u001b[1;33m(\u001b[0m\u001b[0mX_train\u001b[0m\u001b[1;33m.\u001b[0m\u001b[0mdtype\u001b[0m\u001b[1;33m)\u001b[0m\u001b[1;33m\u001b[0m\u001b[1;33m\u001b[0m\u001b[0m\n\u001b[0m\u001b[0;32m      2\u001b[0m \u001b[0mprint\u001b[0m\u001b[1;33m(\u001b[0m\u001b[0my_train\u001b[0m\u001b[1;33m.\u001b[0m\u001b[0mdtype\u001b[0m\u001b[1;33m)\u001b[0m\u001b[1;33m\u001b[0m\u001b[1;33m\u001b[0m\u001b[0m\n",
      "\u001b[1;32mc:\\Users\\SaadL\\anaconda3\\Lib\\site-packages\\pandas\\core\\generic.py\u001b[0m in \u001b[0;36m?\u001b[1;34m(self, name)\u001b[0m\n\u001b[0;32m   6295\u001b[0m             \u001b[1;32mand\u001b[0m \u001b[0mname\u001b[0m \u001b[1;32mnot\u001b[0m \u001b[1;32min\u001b[0m \u001b[0mself\u001b[0m\u001b[1;33m.\u001b[0m\u001b[0m_accessors\u001b[0m\u001b[1;33m\u001b[0m\u001b[1;33m\u001b[0m\u001b[0m\n\u001b[0;32m   6296\u001b[0m             \u001b[1;32mand\u001b[0m \u001b[0mself\u001b[0m\u001b[1;33m.\u001b[0m\u001b[0m_info_axis\u001b[0m\u001b[1;33m.\u001b[0m\u001b[0m_can_hold_identifiers_and_holds_name\u001b[0m\u001b[1;33m(\u001b[0m\u001b[0mname\u001b[0m\u001b[1;33m)\u001b[0m\u001b[1;33m\u001b[0m\u001b[1;33m\u001b[0m\u001b[0m\n\u001b[0;32m   6297\u001b[0m         \u001b[1;33m)\u001b[0m\u001b[1;33m:\u001b[0m\u001b[1;33m\u001b[0m\u001b[1;33m\u001b[0m\u001b[0m\n\u001b[0;32m   6298\u001b[0m             \u001b[1;32mreturn\u001b[0m \u001b[0mself\u001b[0m\u001b[1;33m[\u001b[0m\u001b[0mname\u001b[0m\u001b[1;33m]\u001b[0m\u001b[1;33m\u001b[0m\u001b[1;33m\u001b[0m\u001b[0m\n\u001b[1;32m-> 6299\u001b[1;33m         \u001b[1;32mreturn\u001b[0m \u001b[0mobject\u001b[0m\u001b[1;33m.\u001b[0m\u001b[0m__getattribute__\u001b[0m\u001b[1;33m(\u001b[0m\u001b[0mself\u001b[0m\u001b[1;33m,\u001b[0m \u001b[0mname\u001b[0m\u001b[1;33m)\u001b[0m\u001b[1;33m\u001b[0m\u001b[1;33m\u001b[0m\u001b[0m\n\u001b[0m",
      "\u001b[1;31mAttributeError\u001b[0m: 'DataFrame' object has no attribute 'dtype'"
     ]
    }
   ],
   "source": [
    "print(X_train.dtype)\n",
    "print(y_train.dtype)"
   ]
  },
  {
   "cell_type": "code",
   "execution_count": 94,
   "id": "1d05547e",
   "metadata": {},
   "outputs": [
    {
     "ename": "ValueError",
     "evalue": "could not convert string to float: '8955D'",
     "output_type": "error",
     "traceback": [
      "\u001b[1;31m---------------------------------------------------------------------------\u001b[0m",
      "\u001b[1;31mValueError\u001b[0m                                Traceback (most recent call last)",
      "\u001b[1;32m~\\AppData\\Local\\Temp\\ipykernel_2148\\2516636587.py\u001b[0m in \u001b[0;36m?\u001b[1;34m()\u001b[0m\n\u001b[1;32m----> 1\u001b[1;33m \u001b[0mX_train\u001b[0m \u001b[1;33m=\u001b[0m \u001b[0mnp\u001b[0m\u001b[1;33m.\u001b[0m\u001b[0marray\u001b[0m\u001b[1;33m(\u001b[0m\u001b[0mX_train\u001b[0m\u001b[1;33m,\u001b[0m \u001b[0mdtype\u001b[0m\u001b[1;33m=\u001b[0m\u001b[1;34m'float32'\u001b[0m\u001b[1;33m)\u001b[0m\u001b[1;33m\u001b[0m\u001b[1;33m\u001b[0m\u001b[0m\n\u001b[0m\u001b[0;32m      2\u001b[0m \u001b[0my_train\u001b[0m \u001b[1;33m=\u001b[0m \u001b[0mnp\u001b[0m\u001b[1;33m.\u001b[0m\u001b[0marray\u001b[0m\u001b[1;33m(\u001b[0m\u001b[0my_train\u001b[0m\u001b[1;33m,\u001b[0m \u001b[0mdtype\u001b[0m\u001b[1;33m=\u001b[0m\u001b[1;34m'int32'\u001b[0m\u001b[1;33m)\u001b[0m\u001b[1;33m\u001b[0m\u001b[1;33m\u001b[0m\u001b[0m\n",
      "\u001b[1;32mc:\\Users\\SaadL\\anaconda3\\Lib\\site-packages\\pandas\\core\\generic.py\u001b[0m in \u001b[0;36m?\u001b[1;34m(self, dtype, copy)\u001b[0m\n\u001b[0;32m   2149\u001b[0m     def __array__(\n\u001b[0;32m   2150\u001b[0m         \u001b[0mself\u001b[0m\u001b[1;33m,\u001b[0m \u001b[0mdtype\u001b[0m\u001b[1;33m:\u001b[0m \u001b[0mnpt\u001b[0m\u001b[1;33m.\u001b[0m\u001b[0mDTypeLike\u001b[0m \u001b[1;33m|\u001b[0m \u001b[1;32mNone\u001b[0m \u001b[1;33m=\u001b[0m \u001b[1;32mNone\u001b[0m\u001b[1;33m,\u001b[0m \u001b[0mcopy\u001b[0m\u001b[1;33m:\u001b[0m \u001b[0mbool_t\u001b[0m \u001b[1;33m|\u001b[0m \u001b[1;32mNone\u001b[0m \u001b[1;33m=\u001b[0m \u001b[1;32mNone\u001b[0m\u001b[1;33m\u001b[0m\u001b[1;33m\u001b[0m\u001b[0m\n\u001b[0;32m   2151\u001b[0m     \u001b[1;33m)\u001b[0m \u001b[1;33m->\u001b[0m \u001b[0mnp\u001b[0m\u001b[1;33m.\u001b[0m\u001b[0mndarray\u001b[0m\u001b[1;33m:\u001b[0m\u001b[1;33m\u001b[0m\u001b[1;33m\u001b[0m\u001b[0m\n\u001b[0;32m   2152\u001b[0m         \u001b[0mvalues\u001b[0m \u001b[1;33m=\u001b[0m \u001b[0mself\u001b[0m\u001b[1;33m.\u001b[0m\u001b[0m_values\u001b[0m\u001b[1;33m\u001b[0m\u001b[1;33m\u001b[0m\u001b[0m\n\u001b[1;32m-> 2153\u001b[1;33m         \u001b[0marr\u001b[0m \u001b[1;33m=\u001b[0m \u001b[0mnp\u001b[0m\u001b[1;33m.\u001b[0m\u001b[0masarray\u001b[0m\u001b[1;33m(\u001b[0m\u001b[0mvalues\u001b[0m\u001b[1;33m,\u001b[0m \u001b[0mdtype\u001b[0m\u001b[1;33m=\u001b[0m\u001b[0mdtype\u001b[0m\u001b[1;33m)\u001b[0m\u001b[1;33m\u001b[0m\u001b[1;33m\u001b[0m\u001b[0m\n\u001b[0m\u001b[0;32m   2154\u001b[0m         if (\n\u001b[0;32m   2155\u001b[0m             \u001b[0mastype_is_view\u001b[0m\u001b[1;33m(\u001b[0m\u001b[0mvalues\u001b[0m\u001b[1;33m.\u001b[0m\u001b[0mdtype\u001b[0m\u001b[1;33m,\u001b[0m \u001b[0marr\u001b[0m\u001b[1;33m.\u001b[0m\u001b[0mdtype\u001b[0m\u001b[1;33m)\u001b[0m\u001b[1;33m\u001b[0m\u001b[1;33m\u001b[0m\u001b[0m\n\u001b[0;32m   2156\u001b[0m             \u001b[1;32mand\u001b[0m \u001b[0musing_copy_on_write\u001b[0m\u001b[1;33m(\u001b[0m\u001b[1;33m)\u001b[0m\u001b[1;33m\u001b[0m\u001b[1;33m\u001b[0m\u001b[0m\n",
      "\u001b[1;31mValueError\u001b[0m: could not convert string to float: '8955D'"
     ]
    }
   ],
   "source": [
    "X_train = np.array(X_train, dtype='float32')\n",
    "y_train = np.array(y_train, dtype='int32') "
   ]
  },
  {
   "cell_type": "code",
   "execution_count": 92,
   "id": "e43fedab",
   "metadata": {},
   "outputs": [
    {
     "ename": "ValueError",
     "evalue": "Failed to convert a NumPy array to a Tensor (Unsupported object type int).",
     "output_type": "error",
     "traceback": [
      "\u001b[1;31m---------------------------------------------------------------------------\u001b[0m",
      "\u001b[1;31mValueError\u001b[0m                                Traceback (most recent call last)",
      "Cell \u001b[1;32mIn[92], line 1\u001b[0m\n\u001b[1;32m----> 1\u001b[0m model\u001b[38;5;241m.\u001b[39mfit(X_train,y_train ,batch_size\u001b[38;5;241m=\u001b[39m\u001b[38;5;241m100\u001b[39m , epochs\u001b[38;5;241m=\u001b[39m\u001b[38;5;241m100\u001b[39m , validation_split\u001b[38;5;241m=\u001b[39m\u001b[38;5;241m0.2\u001b[39m)\n",
      "File \u001b[1;32mc:\\Users\\SaadL\\anaconda3\\Lib\\site-packages\\keras\\src\\utils\\traceback_utils.py:122\u001b[0m, in \u001b[0;36mfilter_traceback.<locals>.error_handler\u001b[1;34m(*args, **kwargs)\u001b[0m\n\u001b[0;32m    119\u001b[0m     filtered_tb \u001b[38;5;241m=\u001b[39m _process_traceback_frames(e\u001b[38;5;241m.\u001b[39m__traceback__)\n\u001b[0;32m    120\u001b[0m     \u001b[38;5;66;03m# To get the full stack trace, call:\u001b[39;00m\n\u001b[0;32m    121\u001b[0m     \u001b[38;5;66;03m# `keras.config.disable_traceback_filtering()`\u001b[39;00m\n\u001b[1;32m--> 122\u001b[0m     \u001b[38;5;28;01mraise\u001b[39;00m e\u001b[38;5;241m.\u001b[39mwith_traceback(filtered_tb) \u001b[38;5;28;01mfrom\u001b[39;00m \u001b[38;5;28;01mNone\u001b[39;00m\n\u001b[0;32m    123\u001b[0m \u001b[38;5;28;01mfinally\u001b[39;00m:\n\u001b[0;32m    124\u001b[0m     \u001b[38;5;28;01mdel\u001b[39;00m filtered_tb\n",
      "File \u001b[1;32mc:\\Users\\SaadL\\anaconda3\\Lib\\site-packages\\tensorflow\\python\\framework\\constant_op.py:108\u001b[0m, in \u001b[0;36mconvert_to_eager_tensor\u001b[1;34m(value, ctx, dtype)\u001b[0m\n\u001b[0;32m    106\u001b[0m     dtype \u001b[38;5;241m=\u001b[39m dtypes\u001b[38;5;241m.\u001b[39mas_dtype(dtype)\u001b[38;5;241m.\u001b[39mas_datatype_enum\n\u001b[0;32m    107\u001b[0m ctx\u001b[38;5;241m.\u001b[39mensure_initialized()\n\u001b[1;32m--> 108\u001b[0m \u001b[38;5;28;01mreturn\u001b[39;00m ops\u001b[38;5;241m.\u001b[39mEagerTensor(value, ctx\u001b[38;5;241m.\u001b[39mdevice_name, dtype)\n",
      "\u001b[1;31mValueError\u001b[0m: Failed to convert a NumPy array to a Tensor (Unsupported object type int)."
     ]
    }
   ],
   "source": [
    "model.fit(X_train , y_train , batch_size=100 , epochs=100 , validation_split=0.2)"
   ]
  },
  {
   "cell_type": "markdown",
   "id": "20ce9661",
   "metadata": {},
   "source": [
    "## Evaluate the Model\n",
    "Evaluate the performance of the model on the test set."
   ]
  },
  {
   "cell_type": "code",
   "execution_count": null,
   "id": "73167afc",
   "metadata": {},
   "outputs": [],
   "source": [
    "model.evaluate(X_test)"
   ]
  },
  {
   "cell_type": "markdown",
   "id": "08e9bc87",
   "metadata": {},
   "source": [
    "## Make Predictions\n",
    "Use the trained model to make predictions on new or unseen data."
   ]
  },
  {
   "cell_type": "code",
   "execution_count": null,
   "id": "940fa394",
   "metadata": {},
   "outputs": [],
   "source": []
  },
  {
   "cell_type": "markdown",
   "id": "94942463",
   "metadata": {},
   "source": [
    "## Model Performance Visualization\n",
    "Visualize the performance metrics such as accuracy and loss over the epochs."
   ]
  },
  {
   "cell_type": "code",
   "execution_count": null,
   "id": "b1955952",
   "metadata": {},
   "outputs": [],
   "source": []
  },
  {
   "cell_type": "markdown",
   "id": "1d32965f",
   "metadata": {},
   "source": [
    "## Save the Model\n",
    "Save the trained model for submission."
   ]
  },
  {
   "cell_type": "code",
   "execution_count": null,
   "id": "a4e1f00e",
   "metadata": {},
   "outputs": [],
   "source": [
    "model.save('week4_task.h5')"
   ]
  },
  {
   "cell_type": "markdown",
   "id": "9ebe9b8d",
   "metadata": {},
   "source": [
    "## Project Questions:\n",
    "\n",
    "1. **Data Preprocessing**: Explain why you chose your specific data preprocessing techniques (e.g., normalization, encoding). How did these techniques help prepare the data for training the model?\n",
    "2. **Model Architecture**: Describe the reasoning behind your model’s architecture (e.g., the number of layers, type of layers, number of neurons, and activation functions). Why did you believe this architecture was appropriate for the problem at hand?\n",
    "3. **Training Process**: Discuss why you chose your batch size, number of epochs, and optimizer. How did these choices affect the training process? Did you experiment with different values, and what were the outcomes?\n",
    "4. **Loss Function and Metrics**: Why did you choose the specific loss function and evaluation metrics? How do they align with the objective of the task (e.g., regression vs classification)?\n",
    "5. **Regularization Techniques**: If you used regularization techniques such as dropout or weight decay, explain why you implemented them and how they influenced the model's performance.\n",
    "6. **Model Evaluation**: Justify your approach to evaluating the model. Why did you choose the specific performance metrics, and how do they reflect the model's success in solving the task?\n",
    "7. **Model Tuning (If Done)**: Describe any tuning you performed (e.g., hyperparameter tuning) and why you felt it was necessary. How did these adjustments improve model performance?\n",
    "8. **Overfitting and Underfitting**: Analyze whether the model encountered any overfitting or underfitting during training. What strategies could you implement to mitigate these issues?"
   ]
  },
  {
   "cell_type": "markdown",
   "id": "5f524a61",
   "metadata": {},
   "source": [
    "### Answer Here:"
   ]
  }
 ],
 "metadata": {
  "kernelspec": {
   "display_name": "base",
   "language": "python",
   "name": "python3"
  },
  "language_info": {
   "codemirror_mode": {
    "name": "ipython",
    "version": 3
   },
   "file_extension": ".py",
   "mimetype": "text/x-python",
   "name": "python",
   "nbconvert_exporter": "python",
   "pygments_lexer": "ipython3",
   "version": "3.12.4"
  }
 },
 "nbformat": 4,
 "nbformat_minor": 5
}
